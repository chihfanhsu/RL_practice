{
 "cells": [
  {
   "cell_type": "code",
   "execution_count": 1,
   "metadata": {},
   "outputs": [],
   "source": [
    "import os\n",
    "from maze_env import Maze\n",
    "from utility import Prediction\n",
    "import time"
   ]
  },
  {
   "cell_type": "code",
   "execution_count": 2,
   "metadata": {},
   "outputs": [],
   "source": [
    "# def onKeyPress(event):\n",
    "#     is_terminate = False\n",
    "#     if (event.char == \"w\"):\n",
    "#         is_terminate, reward = env.take_action(0, show_animate=True)\n",
    "#     elif (event.char == \"d\"):\n",
    "#         is_terminate, reward = env.take_action(1, show_animate=True)\n",
    "#     elif (event.char == \"s\"):\n",
    "#         is_terminate, reward = env.take_action(2, show_animate=True)\n",
    "#     elif (event.char == \"a\"):\n",
    "#         is_terminate, reward = env.take_action(3, show_animate=True)\n",
    "#     elif (event.char == \"q\"):\n",
    "#         env.destroy()\n",
    "#     if (is_terminate):\n",
    "#         env.reset()"
   ]
  },
  {
   "cell_type": "code",
   "execution_count": 3,
   "metadata": {
    "scrolled": true
   },
   "outputs": [
    {
     "name": "stdout",
     "output_type": "stream",
     "text": [
      "4x4, act_space = 4\n"
     ]
    }
   ],
   "source": [
    "# if __name__ == \"__main__\":\n",
    "env = Maze()\n",
    "prd = Prediction(env)\n",
    "print('{0}x{1}, act_space = {2}'.format(env.MAZE_Limit[0],env.MAZE_Limit[1], len(env.action_space)))\n",
    "# env.bind('<KeyPress>', onKeyPress)\n",
    "# env.mainloop()"
   ]
  },
  {
   "cell_type": "markdown",
   "metadata": {},
   "source": [
    "# DP Prediction"
   ]
  },
  {
   "cell_type": "code",
   "execution_count": 4,
   "metadata": {
    "scrolled": true
   },
   "outputs": [],
   "source": [
    "# prd.DP.iteration(update = 10)"
   ]
  },
  {
   "cell_type": "markdown",
   "metadata": {},
   "source": [
    "# model-free MC"
   ]
  },
  {
   "cell_type": "code",
   "execution_count": 5,
   "metadata": {
    "scrolled": false
   },
   "outputs": [
    {
     "name": "stdout",
     "output_type": "stream",
     "text": [
      "The mode is first_visit\n",
      "N\n",
      " [[   0. 1809. 2018. 1451.]\n",
      " [1198. 2081. 3000. 1916.]\n",
      " [ 855. 1068.    0. 1246.]\n",
      " [ 602.  737.  457.    0.]]\n",
      "V\n",
      " [[  0.         -14.17910448 -19.87809713 -21.77877326]\n",
      " [-14.03005008 -18.59346468 -20.676      -19.24843424]\n",
      " [-20.44093567 -20.59082397   0.         -11.18539326]\n",
      " [-21.99335548 -19.28629579 -11.81400438   0.        ]]\n",
      "--------------------------\n",
      "\n",
      "The mode is every_visit\n",
      "N\n",
      " [[    0.  4207.  7249.  7217.]\n",
      " [ 2944.  5447. 10688.  7057.]\n",
      " [ 3327.  3771.     0.  3335.]\n",
      " [ 2997.  2685.  1341.     0.]]\n",
      "V\n",
      " [[  0.         -13.56928928 -19.63815699 -20.93501455]\n",
      " [-14.40081522 -18.39324399 -20.43151198 -18.91143545]\n",
      " [-19.90862639 -20.1516839    0.         -11.76101949]\n",
      " [-21.19252586 -18.63128492 -10.43400447   0.        ]]\n",
      "--------------------------\n",
      "\n"
     ]
    }
   ],
   "source": [
    "prd.MFMC.iteration(n_episode = 3000,  mode = \"first_visit\")\n",
    "prd.MFMC.iteration(n_episode = 3000,  mode = \"every_visit\")"
   ]
  }
 ],
 "metadata": {
  "kernelspec": {
   "display_name": "Python 3",
   "language": "python",
   "name": "python3"
  },
  "language_info": {
   "codemirror_mode": {
    "name": "ipython",
    "version": 3
   },
   "file_extension": ".py",
   "mimetype": "text/x-python",
   "name": "python",
   "nbconvert_exporter": "python",
   "pygments_lexer": "ipython3",
   "version": "3.7.7"
  }
 },
 "nbformat": 4,
 "nbformat_minor": 2
}
