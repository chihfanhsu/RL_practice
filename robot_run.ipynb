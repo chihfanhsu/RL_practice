{
 "cells": [
  {
   "cell_type": "code",
   "execution_count": 1,
   "metadata": {},
   "outputs": [],
   "source": [
    "import os\n",
    "from maze_env import Maze\n",
    "from utility import Prediction\n",
    "import time"
   ]
  },
  {
   "cell_type": "code",
   "execution_count": 2,
   "metadata": {},
   "outputs": [],
   "source": [
    "def onKeyPress(event):\n",
    "    is_terminate = False\n",
    "    if (event.char == \"w\"):\n",
    "        is_terminate = env.take_action(0, show_animate=True)\n",
    "    elif (event.char == \"d\"):\n",
    "        is_terminate = env.take_action(1, show_animate=True)\n",
    "    elif (event.char == \"s\"):\n",
    "        is_terminate = env.take_action(2, show_animate=True)\n",
    "    elif (event.char == \"a\"):\n",
    "        is_terminate = env.take_action(3, show_animate=True)\n",
    "    elif (event.char == \"q\"):\n",
    "        env.destroy()\n",
    "    if (is_terminate):\n",
    "        env.reset()"
   ]
  },
  {
   "cell_type": "code",
   "execution_count": 3,
   "metadata": {
    "scrolled": true
   },
   "outputs": [],
   "source": [
    "# if __name__ == \"__main__\":\n",
    "env = Maze()\n",
    "env.bind('<KeyPress>', onKeyPress)\n",
    "env.mainloop()"
   ]
  },
  {
   "cell_type": "code",
   "execution_count": 4,
   "metadata": {
    "scrolled": false
   },
   "outputs": [
    {
     "name": "stdout",
     "output_type": "stream",
     "text": [
      "4x4, act_space = 4\n",
      "0 [[ 0. -1. -1. -1.]\n",
      " [-1. -1. -1. -1.]\n",
      " [-1. -1.  0. -1.]\n",
      " [-1. -1. -1.  0.]]\n",
      "1 [[ 0. -1. -2. -2.]\n",
      " [-1. -2. -2. -2.]\n",
      " [-2. -2.  0. -1.]\n",
      " [-2. -2. -1.  0.]]\n",
      "2 [[ 0. -1. -2. -3.]\n",
      " [-1. -2. -3. -2.]\n",
      " [-2. -3.  0. -1.]\n",
      " [-3. -2. -1.  0.]]\n",
      "3 [[ 0. -1. -2. -3.]\n",
      " [-1. -2. -3. -2.]\n",
      " [-2. -3.  0. -1.]\n",
      " [-3. -2. -1.  0.]]\n",
      "4 [[ 0. -1. -2. -3.]\n",
      " [-1. -2. -3. -2.]\n",
      " [-2. -3.  0. -1.]\n",
      " [-3. -2. -1.  0.]]\n",
      "5 [[ 0. -1. -2. -3.]\n",
      " [-1. -2. -3. -2.]\n",
      " [-2. -3.  0. -1.]\n",
      " [-3. -2. -1.  0.]]\n",
      "6 [[ 0. -1. -2. -3.]\n",
      " [-1. -2. -3. -2.]\n",
      " [-2. -3.  0. -1.]\n",
      " [-3. -2. -1.  0.]]\n",
      "7 [[ 0. -1. -2. -3.]\n",
      " [-1. -2. -3. -2.]\n",
      " [-2. -3.  0. -1.]\n",
      " [-3. -2. -1.  0.]]\n",
      "8 [[ 0. -1. -2. -3.]\n",
      " [-1. -2. -3. -2.]\n",
      " [-2. -3.  0. -1.]\n",
      " [-3. -2. -1.  0.]]\n",
      "9 [[ 0. -1. -2. -3.]\n",
      " [-1. -2. -3. -2.]\n",
      " [-2. -3.  0. -1.]\n",
      " [-3. -2. -1.  0.]]\n"
     ]
    }
   ],
   "source": [
    "print('{0}x{1}, act_space = {2}'.format(env.MAZE_Limit[0],env.MAZE_Limit[1], len(env.action_space)))\n",
    "prd = Prediction(env)\n",
    "prd.iteration(update = 10)"
   ]
  },
  {
   "cell_type": "code",
   "execution_count": 5,
   "metadata": {},
   "outputs": [
    {
     "name": "stdout",
     "output_type": "stream",
     "text": [
      "p (4, 16, 16)\n",
      "v (16,)\n",
      "r (4, 16)\n"
     ]
    }
   ],
   "source": [
    "import numpy as np\n",
    "#testing field\n",
    "p = env.get_env_model(); print(\"p\",p.shape)\n",
    "v = prd.value; print(\"v\",v.shape)\n",
    "r = prd.reward; print(\"r\",r.shape)"
   ]
  },
  {
   "cell_type": "code",
   "execution_count": 6,
   "metadata": {},
   "outputs": [
    {
     "data": {
      "text/plain": [
       "array([ 0., -1., -2., -3., -1., -2., -3., -2., -2., -3.,  0., -1., -3.,\n",
       "       -2., -1.,  0.])"
      ]
     },
     "execution_count": 6,
     "metadata": {},
     "output_type": "execute_result"
    }
   ],
   "source": [
    "np.max(r + prd.discont_factor*np.matmul(p,v), axis = 0)"
   ]
  }
 ],
 "metadata": {
  "kernelspec": {
   "display_name": "Python 3",
   "language": "python",
   "name": "python3"
  },
  "language_info": {
   "codemirror_mode": {
    "name": "ipython",
    "version": 3
   },
   "file_extension": ".py",
   "mimetype": "text/x-python",
   "name": "python",
   "nbconvert_exporter": "python",
   "pygments_lexer": "ipython3",
   "version": "3.7.7"
  }
 },
 "nbformat": 4,
 "nbformat_minor": 2
}
