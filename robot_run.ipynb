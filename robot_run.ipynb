{
 "cells": [
  {
   "cell_type": "code",
   "execution_count": 1,
   "metadata": {},
   "outputs": [],
   "source": [
    "import os\n",
    "from maze_env import Maze\n",
    "from utility import Prediction\n",
    "import time"
   ]
  },
  {
   "cell_type": "markdown",
   "metadata": {
    "collapsed": true,
    "scrolled": false
   },
   "source": [
    "def run_maze():\n",
    "    step = 0\n",
    "    opt_rate = -100\n",
    "    if RL.is_train:\n",
    "        fout = open('./opt_hist/exp1_adam.csv', 'w')\n",
    "        fout.write(str('opt_1,opt_3,opt_5\\n'))\n",
    "    else:\n",
    "        fout = open('./opt_hist/'+env.test_folder+'.csv', 'w')\n",
    "        fout.write(str('Dataset,Frame,Synthesized View,p1,p2,p3\\n'))\n",
    "    \n",
    "    top_1 = 0\n",
    "    top_3 = 0\n",
    "    top_5 = 0\n",
    "    done_count = 0\n",
    "    for episode in tqdm(range(RL.episode)):\n",
    "        # initial observation\n",
    "        observation = env.reset()\n",
    "\n",
    "        while True:\n",
    "            # fresh env\n",
    "            env.render()\n",
    "            # RL choose action based on observation\n",
    "            \n",
    "            action = RL.choose_action(observation, episode)\n",
    "            # RL take action and get next observation and reward\n",
    "            observation_, reward, done = env.step(action)\n",
    "            \n",
    "            if RL.is_train:\n",
    "                if done:\n",
    "                    top_1 = top_1 + env.hit_top_1\n",
    "                    top_3 = top_3 + env.hit_top_3\n",
    "                    top_5 = top_5 + env.hit_top_5\n",
    "                    done_count = done_count + 1\n",
    "\n",
    "                RL.store_transition(observation[0], action, reward, observation_, observation[1:])\n",
    "\n",
    "                if (step > 1000) and (step % 10 == 0):\n",
    "                    is_update = RL.learn()\n",
    "                    if is_update:\n",
    "                        temp_top_1_rate = top_1/done_count\n",
    "                        temp_top_3_rate = top_3/done_count\n",
    "                        temp_top_5_rate = top_5/done_count\n",
    "                        if (opt_rate <= temp_top_1_rate):\n",
    "                            opt_rate = temp_top_1_rate\n",
    "                            RL.save_weight(episode, './weights_exp1/')\n",
    "                            print(\"[*%d] OPT rate %.4f, %.4f, %.4f\" % (episode, temp_top_1_rate,temp_top_3_rate,temp_top_5_rate))\n",
    "                        else:\n",
    "                            print(\"[%d] OPT rate %.4f, %.4f, %.4f\" % (episode, temp_top_1_rate,temp_top_3_rate,temp_top_5_rate))\n",
    "\n",
    "\n",
    "                        fout.write(str('%d,%.4f,%.4f,%.4f\\n' % (episode, temp_top_1_rate,temp_top_3_rate,temp_top_5_rate)))\n",
    "                        fout.flush()    \n",
    "                        top_1 = 0\n",
    "                        top_3 = 0\n",
    "                        top_5 = 0\n",
    "                        done_count = 0\n",
    "\n",
    "            # swap observation\n",
    "            observation[0] = observation_\n",
    "\n",
    "            # break while loop when end of this episode\n",
    "            if done:\n",
    "                if not RL.is_train:\n",
    "                    fout.write(\"%s,%d,%d,%d,%d,%d\\n\" % (env.ob.r_db,env.ob.r_frame,env.ob.r_tvs,\n",
    "                                                        env.cur_state[0],env.cur_state[1],env.cur_state[2]))\n",
    "                break\n",
    "            step += 1\n",
    "\n",
    "    # end of game\n",
    "    print('game over')\n",
    "    fout.close()\n",
    "    env.destroy()\n"
   ]
  },
  {
   "cell_type": "code",
   "execution_count": 2,
   "metadata": {},
   "outputs": [],
   "source": [
    "def onKeyPress(event):\n",
    "    is_terminate = False\n",
    "    if (event.char == \"w\"):\n",
    "        is_terminate = env.take_action(0, show_animate=True)\n",
    "    elif (event.char == \"d\"):\n",
    "        is_terminate = env.take_action(1, show_animate=True)\n",
    "    elif (event.char == \"s\"):\n",
    "        is_terminate = env.take_action(2, show_animate=True)\n",
    "    elif (event.char == \"a\"):\n",
    "        is_terminate = env.take_action(3, show_animate=True)\n",
    "    elif (event.char == \"q\"):\n",
    "        env.destroy()\n",
    "    if (is_terminate):\n",
    "        env.reset()"
   ]
  },
  {
   "cell_type": "code",
   "execution_count": 3,
   "metadata": {
    "scrolled": true
   },
   "outputs": [],
   "source": [
    "# if __name__ == \"__main__\":\n",
    "env = Maze()\n",
    "# env.bind('<KeyPress>', onKeyPress)\n",
    "# env.mainloop()"
   ]
  },
  {
   "cell_type": "code",
   "execution_count": 4,
   "metadata": {
    "scrolled": false
   },
   "outputs": [
    {
     "name": "stdout",
     "output_type": "stream",
     "text": [
      "4x4, act_space = 4\n",
      "0 [[ 0. -1. -1. -1.]\n",
      " [-1. -1. -1. -1.]\n",
      " [-1. -1.  0. -1.]\n",
      " [-1. -1. -1.  0.]]\n",
      "1 [[ 0. -1. -2. -2.]\n",
      " [-1. -2. -2. -2.]\n",
      " [-2. -2.  0. -1.]\n",
      " [-2. -2. -1.  0.]]\n",
      "2 [[ 0. -1. -2. -3.]\n",
      " [-1. -2. -3. -2.]\n",
      " [-2. -3.  0. -1.]\n",
      " [-3. -2. -1.  0.]]\n",
      "3 [[ 0. -1. -2. -3.]\n",
      " [-1. -2. -3. -2.]\n",
      " [-2. -3.  0. -1.]\n",
      " [-3. -2. -1.  0.]]\n",
      "4 [[ 0. -1. -2. -3.]\n",
      " [-1. -2. -3. -2.]\n",
      " [-2. -3.  0. -1.]\n",
      " [-3. -2. -1.  0.]]\n",
      "5 [[ 0. -1. -2. -3.]\n",
      " [-1. -2. -3. -2.]\n",
      " [-2. -3.  0. -1.]\n",
      " [-3. -2. -1.  0.]]\n",
      "6 [[ 0. -1. -2. -3.]\n",
      " [-1. -2. -3. -2.]\n",
      " [-2. -3.  0. -1.]\n",
      " [-3. -2. -1.  0.]]\n",
      "7 [[ 0. -1. -2. -3.]\n",
      " [-1. -2. -3. -2.]\n",
      " [-2. -3.  0. -1.]\n",
      " [-3. -2. -1.  0.]]\n",
      "8 [[ 0. -1. -2. -3.]\n",
      " [-1. -2. -3. -2.]\n",
      " [-2. -3.  0. -1.]\n",
      " [-3. -2. -1.  0.]]\n",
      "9 [[ 0. -1. -2. -3.]\n",
      " [-1. -2. -3. -2.]\n",
      " [-2. -3.  0. -1.]\n",
      " [-3. -2. -1.  0.]]\n"
     ]
    }
   ],
   "source": [
    "print('{0}x{1}, act_space = {2}'.format(env.MAZE_Limit[0],env.MAZE_Limit[1], len(env.action_space)))\n",
    "prd = Prediction(env)\n",
    "prd.iteration(update = 10)"
   ]
  }
 ],
 "metadata": {
  "kernelspec": {
   "display_name": "Python 3",
   "language": "python",
   "name": "python3"
  },
  "language_info": {
   "codemirror_mode": {
    "name": "ipython",
    "version": 3
   },
   "file_extension": ".py",
   "mimetype": "text/x-python",
   "name": "python",
   "nbconvert_exporter": "python",
   "pygments_lexer": "ipython3",
   "version": "3.7.7"
  }
 },
 "nbformat": 4,
 "nbformat_minor": 2
}
