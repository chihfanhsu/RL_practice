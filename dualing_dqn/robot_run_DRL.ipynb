{
 "cells": [
  {
   "cell_type": "code",
   "execution_count": 1,
   "metadata": {},
   "outputs": [],
   "source": [
    "import os\n",
    "from maze_env import Maze\n",
    "from Double_Dualing_dqn import DRL\n",
    "import time\n",
    "import numpy as np"
   ]
  },
  {
   "cell_type": "code",
   "execution_count": 2,
   "metadata": {
    "scrolled": false
   },
   "outputs": [
    {
     "name": "stdout",
     "output_type": "stream",
     "text": [
      "WARNING:tensorflow:From c:\\silver\\workspace\\project\\RL_practice\\dualing_dqn\\model_dualing.py:5: dense (from tensorflow.python.layers.core) is deprecated and will be removed in a future version.\n",
      "Instructions for updating:\n",
      "Use keras.layers.Dense instead.\n",
      "WARNING:tensorflow:From c:\\users\\silve\\appdata\\local\\programs\\python\\python37\\lib\\site-packages\\tensorflow_core\\python\\layers\\core.py:187: Layer.apply (from tensorflow.python.keras.engine.base_layer) is deprecated and will be removed in a future version.\n",
      "Instructions for updating:\n",
      "Please use `layer.__call__` method instead.\n",
      "WARNING:tensorflow:From c:\\users\\silve\\appdata\\local\\programs\\python\\python37\\lib\\site-packages\\tensorflow_core\\python\\ops\\resource_variable_ops.py:1635: calling BaseResourceVariable.__init__ (from tensorflow.python.ops.resource_variable_ops) with constraint is deprecated and will be removed in a future version.\n",
      "Instructions for updating:\n",
      "If using Keras pass *_constraint arguments to layers.\n",
      "WARNING:tensorflow:From c:\\users\\silve\\appdata\\local\\programs\\python\\python37\\lib\\site-packages\\tensorflow_core\\python\\training\\rmsprop.py:119: calling Ones.__init__ (from tensorflow.python.ops.init_ops) with dtype is deprecated and will be removed in a future version.\n",
      "Instructions for updating:\n",
      "Call initializer instance with the dtype argument instead of passing it to the constructor\n",
      "6x8, act_space = 4\n"
     ]
    }
   ],
   "source": [
    "# if __name__ == \"__main__\":\n",
    "env = Maze()\n",
    "rl = DRL(env)\n",
    "print('{0}x{1}, act_space = {2}'.format(env.MAZE_Limit[0],env.MAZE_Limit[1], len(env.action_space)))\n",
    "# env.bind('<KeyPress>', onKeyPress)\n",
    "# env.mainloop()"
   ]
  },
  {
   "cell_type": "code",
   "execution_count": 3,
   "metadata": {
    "scrolled": false
   },
   "outputs": [
    {
     "name": "stderr",
     "output_type": "stream",
     "text": [
      "100%|████████████████████████████████████████████████████████████████████████████████| 500/500 [24:11<00:00,  2.90s/it]\n"
     ]
    }
   ],
   "source": [
    "rl.Double_QDN.iteration(500)"
   ]
  },
  {
   "cell_type": "code",
   "execution_count": 4,
   "metadata": {},
   "outputs": [
    {
     "name": "stdout",
     "output_type": "stream",
     "text": [
      "[[ -9.725345   -9.602275   -9.479207   -9.356137   -9.233069   -9.110001\n",
      "   -9.621812   -9.498742   -9.375674   -9.2526045  -9.129536   -9.006467\n",
      "   -9.368384   -9.395209   -9.2721405  -8.96939    -8.418955   -7.8736677\n",
      "   -9.310321   -8.625263   -8.00603    -7.4644456  -6.9228606  -6.3812766\n",
      "   -9.616254   -8.95272    -7.440317   -6.3331056  -5.6701026  -5.149488\n",
      "   -9.922186   -9.258653   -8.237695   -6.782641   -5.3275867  -4.570902\n",
      "  -10.22812    -9.702595   -9.204385   -7.8153887  -6.3603344  -4.90528\n",
      "  -10.77609   -10.27788    -9.77967    -8.848136   -7.3930836  -5.9380283]\n",
      " [ -9.50373    -9.418041   -9.332354   -9.246666   -9.160978   -9.075289\n",
      "   -9.575741   -9.490053   -9.404365   -9.318676   -9.232988   -9.147301\n",
      "   -9.517214   -9.562064   -9.476376   -9.1752615  -8.577186   -7.99856\n",
      "   -9.536943   -8.932646   -8.2566     -7.691958   -7.1273155  -6.562673\n",
      "   -9.47355    -9.01539    -7.8179603  -6.7740765  -6.018961   -5.456168\n",
      "   -9.410156   -8.951996   -8.195917   -7.1134114  -6.0309067  -5.2853327\n",
      "   -9.346764   -9.063039   -8.813837   -7.7888603  -6.706355   -5.62385\n",
      "   -9.589291   -9.340089   -9.090887   -8.464309   -7.381804   -6.299299 ]\n",
      " [ -9.544989   -9.429242   -9.313496   -9.197749   -9.082003   -8.966255\n",
      "   -9.454238   -9.338492   -9.222745   -9.106998   -8.991252   -8.875505\n",
      "   -9.265107   -9.247742   -9.131995   -8.78558    -8.121191   -7.524787\n",
      "   -9.307912   -8.671943   -8.0205965  -7.4730644  -6.9255323  -6.3780007\n",
      "   -9.38785    -8.860089   -7.775175   -6.808999   -6.0779204  -5.5216174\n",
      "   -9.467788   -8.940027   -8.193235   -7.2216825  -6.2501307  -5.536613\n",
      "   -9.547726   -9.173758   -8.830226   -7.90203    -6.930477   -5.9589243\n",
      "   -9.897381   -9.553849   -9.210319   -8.5823765  -7.6108246  -6.6392717]\n",
      " [ -9.403069   -9.337753   -9.272432   -9.207117   -9.141802   -9.076483\n",
      "   -9.374187   -9.308874   -9.243555   -9.17824    -9.112921   -9.047604\n",
      "   -9.266159   -9.279995   -9.21468    -8.783611   -7.8483615  -6.87816\n",
      "   -9.883881   -8.214224   -6.4700046  -5.474676   -4.4793463  -3.4840164\n",
      "  -10.00666    -9.193846   -7.9327726  -5.56275    -2.6434042  -0.5437648\n",
      "  -10.129442   -9.3166275  -8.356312   -7.3261657  -6.29602    -3.8343\n",
      "  -10.252222   -9.679781   -9.154913   -8.15965    -7.1295047  -6.099359\n",
      "  -10.796562  -10.271694   -9.746826   -8.993134   -7.962989   -6.9328437]]\n",
      "[Max] Action to State-value\n",
      " [[-9.403069  -9.337753  -9.272432  -9.197749  -9.082003  -8.966255 ]\n",
      " [-9.374187  -9.308874  -9.222745  -9.106998  -8.991252  -8.875505 ]\n",
      " [-9.265107  -9.247742  -9.131995  -8.783611  -7.8483615 -6.87816  ]\n",
      " [-9.307912  -8.214224  -6.4700046 -5.474676  -4.4793463 -3.4840164]\n",
      " [-9.38785   -8.860089  -7.440317  -5.56275   -2.6434042 -0.5437648]\n",
      " [-9.410156  -8.940027  -8.193235  -6.782641  -5.3275867 -3.8343   ]\n",
      " [-9.346764  -9.063039  -8.813837  -7.7888603 -6.3603344 -4.90528  ]\n",
      " [-9.589291  -9.340089  -9.090887  -8.464309  -7.381804  -5.9380283]]\n",
      "[Max] Best action in each state\n",
      " [[3 3 3 2 2 2]\n",
      " [3 3 2 2 2 2]\n",
      " [2 2 2 3 3 3]\n",
      " [2 3 3 3 3 3]\n",
      " [2 2 0 3 3 3]\n",
      " [1 2 2 0 0 3]\n",
      " [1 1 1 1 0 0]\n",
      " [1 1 1 1 1 0]]\n"
     ]
    }
   ],
   "source": [
    "Avalue = np.squeeze(np.transpose(np.array(rl.Double_QDN.Avalue), (2, 0, 1)))\n",
    "print(Avalue)\n",
    "print(\"[Max] Action to State-value\\n\",np.max(Avalue,axis=0).reshape(env.MAZE_Limit[1],env.MAZE_Limit[0]))\n",
    "print(\"[Max] Best action in each state\\n\",np.argmax(Avalue,axis=0).reshape(env.MAZE_Limit[1],env.MAZE_Limit[0]))"
   ]
  },
  {
   "cell_type": "code",
   "execution_count": 5,
   "metadata": {},
   "outputs": [
    {
     "data": {
      "image/png": "[encoded data removed]",
      "text/plain": [
       "<Figure size 432x288 with 1 Axes>"
      ]
     },
     "metadata": {
      "needs_background": "light"
     },
     "output_type": "display_data"
    }
   ],
   "source": [
    "rl.Double_QDN.plot_cost()"
   ]
  },
  {
   "cell_type": "markdown",
   "metadata": {},
   "source": [
    "# testing field"
   ]
  },
  {
   "cell_type": "code",
   "execution_count": 6,
   "metadata": {},
   "outputs": [],
   "source": [
    "import time\n",
    "a = np.array([1,2,3,4,5])"
   ]
  },
  {
   "cell_type": "code",
   "execution_count": 7,
   "metadata": {},
   "outputs": [],
   "source": [
    "leng = 4"
   ]
  },
  {
   "cell_type": "code",
   "execution_count": 8,
   "metadata": {},
   "outputs": [],
   "source": [
    "tex = [i for i in range(2*leng-1)]"
   ]
  },
  {
   "cell_type": "code",
   "execution_count": 9,
   "metadata": {},
   "outputs": [
    {
     "data": {
      "text/plain": [
       "[3, 4, 5, 6]"
      ]
     },
     "execution_count": 9,
     "metadata": {},
     "output_type": "execute_result"
    }
   ],
   "source": [
    "tex[-leng:]"
   ]
  },
  {
   "cell_type": "code",
   "execution_count": 10,
   "metadata": {},
   "outputs": [],
   "source": [
    "# # t = time.time()\n",
    "# np.logspace(start=1,stop=len(a),num=len(a),endpoint=True,base=2)/2\n",
    "# # print(time.time()-t)"
   ]
  },
  {
   "cell_type": "code",
   "execution_count": 11,
   "metadata": {},
   "outputs": [],
   "source": [
    "# # t = time.time()\n",
    "# np.array([2**i for i in range(len(a))])\n",
    "# # print(time.time()-t)"
   ]
  }
 ],
 "metadata": {
  "kernelspec": {
   "display_name": "Python 3",
   "language": "python",
   "name": "python3"
  },
  "language_info": {
   "codemirror_mode": {
    "name": "ipython",
    "version": 3
   },
   "file_extension": ".py",
   "mimetype": "text/x-python",
   "name": "python",
   "nbconvert_exporter": "python",
   "pygments_lexer": "ipython3",
   "version": "3.7.7"
  }
 },
 "nbformat": 4,
 "nbformat_minor": 2
}
