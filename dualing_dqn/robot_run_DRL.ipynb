{
 "cells": [
  {
   "cell_type": "code",
   "execution_count": 1,
   "metadata": {},
   "outputs": [],
   "source": [
    "import os\n",
    "from maze_env import Maze\n",
    "from Double_Dualing_dqn import DRL\n",
    "import time\n",
    "import numpy as np"
   ]
  },
  {
   "cell_type": "code",
   "execution_count": 2,
   "metadata": {
    "scrolled": false
   },
   "outputs": [
    {
     "name": "stdout",
     "output_type": "stream",
     "text": [
      "WARNING:tensorflow:From c:\\silver\\workspace\\project\\RL_practice\\model_dualing.py:5: dense (from tensorflow.python.layers.core) is deprecated and will be removed in a future version.\n",
      "Instructions for updating:\n",
      "Use keras.layers.Dense instead.\n",
      "WARNING:tensorflow:From c:\\users\\silve\\appdata\\local\\programs\\python\\python37\\lib\\site-packages\\tensorflow_core\\python\\layers\\core.py:187: Layer.apply (from tensorflow.python.keras.engine.base_layer) is deprecated and will be removed in a future version.\n",
      "Instructions for updating:\n",
      "Please use `layer.__call__` method instead.\n",
      "WARNING:tensorflow:From c:\\users\\silve\\appdata\\local\\programs\\python\\python37\\lib\\site-packages\\tensorflow_core\\python\\ops\\resource_variable_ops.py:1635: calling BaseResourceVariable.__init__ (from tensorflow.python.ops.resource_variable_ops) with constraint is deprecated and will be removed in a future version.\n",
      "Instructions for updating:\n",
      "If using Keras pass *_constraint arguments to layers.\n",
      "WARNING:tensorflow:From c:\\users\\silve\\appdata\\local\\programs\\python\\python37\\lib\\site-packages\\tensorflow_core\\python\\training\\rmsprop.py:119: calling Ones.__init__ (from tensorflow.python.ops.init_ops) with dtype is deprecated and will be removed in a future version.\n",
      "Instructions for updating:\n",
      "Call initializer instance with the dtype argument instead of passing it to the constructor\n",
      "4x4, act_space = 4\n"
     ]
    }
   ],
   "source": [
    "# if __name__ == \"__main__\":\n",
    "env = Maze()\n",
    "rl = DRL(env)\n",
    "print('{0}x{1}, act_space = {2}'.format(env.MAZE_Limit[0],env.MAZE_Limit[1], len(env.action_space)))\n",
    "# env.bind('<KeyPress>', onKeyPress)\n",
    "# env.mainloop()"
   ]
  },
  {
   "cell_type": "code",
   "execution_count": 3,
   "metadata": {
    "scrolled": false
   },
   "outputs": [
    {
     "name": "stderr",
     "output_type": "stream",
     "text": [
      "100%|████████████████████████████████████████████████████████████████████████████████| 500/500 [00:40<00:00, 12.33it/s]\n"
     ]
    }
   ],
   "source": [
    "rl.Double_QDN.iteration(500)"
   ]
  },
  {
   "cell_type": "code",
   "execution_count": 4,
   "metadata": {},
   "outputs": [
    {
     "name": "stdout",
     "output_type": "stream",
     "text": [
      "[[ 13.11979      7.5172234    4.942016     4.457764    14.597032\n",
      "    6.992223     3.0739403    2.5210319    8.298461     0.49409437\n",
      "   -4.3806357   -5.4035935    3.7331977   -4.1047907   -9.865679\n",
      "  -12.1697855 ]\n",
      " [  0.7357908    2.0573626    1.5797954    0.5578298   -2.4177885\n",
      "   -1.6564007   -1.8008466   -2.7487693   -3.5905795   -2.965878\n",
      "   -2.8579726   -3.7566426   -3.7562432   -3.150787    -3.0411062\n",
      "   -3.8250499 ]\n",
      " [  0.42878333  -1.417922    -2.6051483   -3.1293557    1.2278881\n",
      "   -0.8672688   -2.4826548   -3.0130682    1.6754138   -0.3930535\n",
      "   -2.188752    -2.981861     1.8525131   -0.21169707  -2.0579042\n",
      "   -3.1623156 ]\n",
      " [ 15.145233    15.095742    10.3875475    6.412874     6.941269\n",
      "    4.657357    -0.14243174  -3.9134881    3.3701587    0.67901874\n",
      "   -3.9073308   -8.034897     2.8086874    0.06039023  -4.5585737\n",
      "   -9.488024  ]]\n",
      "[Max] Action to State-value\n",
      " [[15.145233   15.095742   10.3875475   6.412874  ]\n",
      " [14.597032    6.992223    3.0739403   2.5210319 ]\n",
      " [ 8.298461    0.67901874 -2.188752   -2.981861  ]\n",
      " [ 3.7331977   0.06039023 -2.0579042  -3.1623156 ]]\n",
      "[Max] Best action in each state\n",
      " [[3 3 3 3]\n",
      " [0 0 0 0]\n",
      " [0 3 2 2]\n",
      " [0 3 2 2]]\n"
     ]
    }
   ],
   "source": [
    "Avalue = np.squeeze(np.transpose(np.array(rl.Double_QDN.Avalue), (2, 0, 1)))\n",
    "print(Avalue)\n",
    "print(\"[Max] Action to State-value\\n\",np.max(Avalue,axis=0).reshape(env.MAZE_Limit[1],env.MAZE_Limit[0]))\n",
    "print(\"[Max] Best action in each state\\n\",np.argmax(Avalue,axis=0).reshape(env.MAZE_Limit[1],env.MAZE_Limit[0]))"
   ]
  },
  {
   "cell_type": "code",
   "execution_count": 5,
   "metadata": {},
   "outputs": [
    {
     "data": {
      "image/png": "[encoded data removed]",
      "text/plain": [
       "<Figure size 432x288 with 1 Axes>"
      ]
     },
     "metadata": {
      "needs_background": "light"
     },
     "output_type": "display_data"
    }
   ],
   "source": [
    "rl.Double_QDN.plot_cost()"
   ]
  },
  {
   "cell_type": "markdown",
   "metadata": {},
   "source": [
    "# testing field"
   ]
  },
  {
   "cell_type": "code",
   "execution_count": 6,
   "metadata": {},
   "outputs": [],
   "source": [
    "import time\n",
    "a = np.array([1,2,3,4,5])"
   ]
  },
  {
   "cell_type": "code",
   "execution_count": 7,
   "metadata": {},
   "outputs": [],
   "source": [
    "leng = 4"
   ]
  },
  {
   "cell_type": "code",
   "execution_count": 8,
   "metadata": {},
   "outputs": [],
   "source": [
    "tex = [i for i in range(2*leng-1)]"
   ]
  },
  {
   "cell_type": "code",
   "execution_count": 9,
   "metadata": {},
   "outputs": [
    {
     "data": {
      "text/plain": [
       "[3, 4, 5, 6]"
      ]
     },
     "execution_count": 9,
     "metadata": {},
     "output_type": "execute_result"
    }
   ],
   "source": [
    "tex[-leng:]"
   ]
  },
  {
   "cell_type": "code",
   "execution_count": 10,
   "metadata": {},
   "outputs": [],
   "source": [
    "# # t = time.time()\n",
    "# np.logspace(start=1,stop=len(a),num=len(a),endpoint=True,base=2)/2\n",
    "# # print(time.time()-t)"
   ]
  },
  {
   "cell_type": "code",
   "execution_count": 11,
   "metadata": {},
   "outputs": [],
   "source": [
    "# # t = time.time()\n",
    "# np.array([2**i for i in range(len(a))])\n",
    "# # print(time.time()-t)"
   ]
  }
 ],
 "metadata": {
  "kernelspec": {
   "display_name": "Python 3",
   "language": "python",
   "name": "python3"
  },
  "language_info": {
   "codemirror_mode": {
    "name": "ipython",
    "version": 3
   },
   "file_extension": ".py",
   "mimetype": "text/x-python",
   "name": "python",
   "nbconvert_exporter": "python",
   "pygments_lexer": "ipython3",
   "version": "3.7.7"
  }
 },
 "nbformat": 4,
 "nbformat_minor": 2
}
