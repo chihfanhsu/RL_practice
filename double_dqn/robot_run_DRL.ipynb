{
 "cells": [
  {
   "cell_type": "code",
   "execution_count": 1,
   "metadata": {},
   "outputs": [],
   "source": [
    "import os\n",
    "from maze_env import Maze\n",
    "from Double_dqn import DRL\n",
    "import time\n",
    "import numpy as np"
   ]
  },
  {
   "cell_type": "code",
   "execution_count": 2,
   "metadata": {
    "scrolled": false
   },
   "outputs": [
    {
     "name": "stdout",
     "output_type": "stream",
     "text": [
      "WARNING:tensorflow:From c:\\silver\\workspace\\project\\RL_practice\\model.py:5: dense (from tensorflow.python.layers.core) is deprecated and will be removed in a future version.\n",
      "Instructions for updating:\n",
      "Use keras.layers.Dense instead.\n",
      "WARNING:tensorflow:From c:\\users\\silve\\appdata\\local\\programs\\python\\python37\\lib\\site-packages\\tensorflow_core\\python\\layers\\core.py:187: Layer.apply (from tensorflow.python.keras.engine.base_layer) is deprecated and will be removed in a future version.\n",
      "Instructions for updating:\n",
      "Please use `layer.__call__` method instead.\n",
      "WARNING:tensorflow:From c:\\users\\silve\\appdata\\local\\programs\\python\\python37\\lib\\site-packages\\tensorflow_core\\python\\ops\\resource_variable_ops.py:1635: calling BaseResourceVariable.__init__ (from tensorflow.python.ops.resource_variable_ops) with constraint is deprecated and will be removed in a future version.\n",
      "Instructions for updating:\n",
      "If using Keras pass *_constraint arguments to layers.\n",
      "WARNING:tensorflow:From c:\\users\\silve\\appdata\\local\\programs\\python\\python37\\lib\\site-packages\\tensorflow_core\\python\\training\\rmsprop.py:119: calling Ones.__init__ (from tensorflow.python.ops.init_ops) with dtype is deprecated and will be removed in a future version.\n",
      "Instructions for updating:\n",
      "Call initializer instance with the dtype argument instead of passing it to the constructor\n",
      "4x4, act_space = 4\n"
     ]
    }
   ],
   "source": [
    "# if __name__ == \"__main__\":\n",
    "env = Maze()\n",
    "rl = DRL(env)\n",
    "print('{0}x{1}, act_space = {2}'.format(env.MAZE_Limit[0],env.MAZE_Limit[1], len(env.action_space)))\n",
    "# env.bind('<KeyPress>', onKeyPress)\n",
    "# env.mainloop()"
   ]
  },
  {
   "cell_type": "code",
   "execution_count": 3,
   "metadata": {
    "scrolled": false
   },
   "outputs": [
    {
     "name": "stderr",
     "output_type": "stream",
     "text": [
      "100%|████████████████████████████████████████████████████████████████████████████████| 500/500 [00:42<00:00, 11.84it/s]\n"
     ]
    }
   ],
   "source": [
    "rl.Double_QDN.iteration(500)"
   ]
  },
  {
   "cell_type": "code",
   "execution_count": 4,
   "metadata": {},
   "outputs": [
    {
     "name": "stdout",
     "output_type": "stream",
     "text": [
      "[[ 11.002814     7.5735846    4.5039425    2.8566778   13.500043\n",
      "    6.663762     1.5922273   -0.13658738   7.2834387    0.44548893\n",
      "   -5.850178    -8.392297     1.9895334   -5.367668   -12.46722\n",
      "  -15.938921  ]\n",
      " [  0.4994654    2.4997683    3.7034647    4.435219    -2.6559374\n",
      "   -1.4348738    0.13552825   0.72480744  -2.1779015   -0.9562549\n",
      "    0.7317751    1.4656205   -1.5134062   -0.39223653   1.068848\n",
      "    2.0905652 ]\n",
      " [ -0.5266098   -1.4293275   -1.8090928   -1.8072327   -0.4461209\n",
      "   -0.6915293   -0.78010356  -0.6789042   -0.7131542   -0.9589803\n",
      "   -1.2870246   -0.6642245   -1.0807618   -1.2728935   -1.5739115\n",
      "   -1.194944  ]\n",
      " [ 13.504713    14.293047    10.815969     7.676192     6.8016315\n",
      "    3.902501     0.06674457  -3.3025455    3.3956103    0.4975444\n",
      "   -3.236443    -6.3748245    1.7155066   -2.1335602   -6.292911\n",
      "   -9.69936   ]]\n",
      "[Max] Action to State-value\n",
      " [[13.504713   14.293047   10.815969    7.676192  ]\n",
      " [13.500043    6.663762    1.5922273   0.72480744]\n",
      " [ 7.2834387   0.4975444   0.7317751   1.4656205 ]\n",
      " [ 1.9895334  -0.39223653  1.068848    2.0905652 ]]\n",
      "[Max] Best action in each state\n",
      " [[3 3 3 3]\n",
      " [0 0 0 1]\n",
      " [0 3 1 1]\n",
      " [0 1 1 1]]\n"
     ]
    }
   ],
   "source": [
    "Avalue = np.squeeze(np.transpose(np.array(rl.Double_QDN.Avalue), (2, 0, 1)))\n",
    "print(Avalue)\n",
    "print(\"[Max] Action to State-value\\n\",np.max(Avalue,axis=0).reshape(env.MAZE_Limit[1],env.MAZE_Limit[0]))\n",
    "print(\"[Max] Best action in each state\\n\",np.argmax(Avalue,axis=0).reshape(env.MAZE_Limit[1],env.MAZE_Limit[0]))"
   ]
  },
  {
   "cell_type": "code",
   "execution_count": 5,
   "metadata": {},
   "outputs": [
    {
     "data": {
      "image/png": "[encoded data removed]",
      "text/plain": [
       "<Figure size 432x288 with 1 Axes>"
      ]
     },
     "metadata": {
      "needs_background": "light"
     },
     "output_type": "display_data"
    }
   ],
   "source": [
    "rl.Double_QDN.plot_cost()"
   ]
  },
  {
   "cell_type": "markdown",
   "metadata": {},
   "source": [
    "# testing field"
   ]
  },
  {
   "cell_type": "code",
   "execution_count": 6,
   "metadata": {},
   "outputs": [],
   "source": [
    "import time\n",
    "a = np.array([1,2,3,4,5])"
   ]
  },
  {
   "cell_type": "code",
   "execution_count": 7,
   "metadata": {},
   "outputs": [],
   "source": [
    "leng = 4"
   ]
  },
  {
   "cell_type": "code",
   "execution_count": 8,
   "metadata": {},
   "outputs": [],
   "source": [
    "tex = [i for i in range(2*leng-1)]"
   ]
  },
  {
   "cell_type": "code",
   "execution_count": 9,
   "metadata": {},
   "outputs": [
    {
     "data": {
      "text/plain": [
       "[3, 4, 5, 6]"
      ]
     },
     "execution_count": 9,
     "metadata": {},
     "output_type": "execute_result"
    }
   ],
   "source": [
    "tex[-leng:]"
   ]
  },
  {
   "cell_type": "code",
   "execution_count": 10,
   "metadata": {},
   "outputs": [],
   "source": [
    "# # t = time.time()\n",
    "# np.logspace(start=1,stop=len(a),num=len(a),endpoint=True,base=2)/2\n",
    "# # print(time.time()-t)"
   ]
  },
  {
   "cell_type": "code",
   "execution_count": 11,
   "metadata": {},
   "outputs": [],
   "source": [
    "# # t = time.time()\n",
    "# np.array([2**i for i in range(len(a))])\n",
    "# # print(time.time()-t)"
   ]
  }
 ],
 "metadata": {
  "kernelspec": {
   "display_name": "Python 3",
   "language": "python",
   "name": "python3"
  },
  "language_info": {
   "codemirror_mode": {
    "name": "ipython",
    "version": 3
   },
   "file_extension": ".py",
   "mimetype": "text/x-python",
   "name": "python",
   "nbconvert_exporter": "python",
   "pygments_lexer": "ipython3",
   "version": "3.7.7"
  }
 },
 "nbformat": 4,
 "nbformat_minor": 2
}
