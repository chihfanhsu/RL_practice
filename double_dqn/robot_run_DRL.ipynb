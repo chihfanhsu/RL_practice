{
 "cells": [
  {
   "cell_type": "code",
   "execution_count": 1,
   "metadata": {},
   "outputs": [],
   "source": [
    "import os\n",
    "from maze_env import Maze\n",
    "from Double_dqn import DRL\n",
    "import time\n",
    "import numpy as np"
   ]
  },
  {
   "cell_type": "code",
   "execution_count": 2,
   "metadata": {
    "scrolled": false
   },
   "outputs": [
    {
     "name": "stdout",
     "output_type": "stream",
     "text": [
      "WARNING:tensorflow:From c:\\silver\\workspace\\project\\RL_practice\\double_dqn\\model.py:5: dense (from tensorflow.python.layers.core) is deprecated and will be removed in a future version.\n",
      "Instructions for updating:\n",
      "Use keras.layers.Dense instead.\n",
      "WARNING:tensorflow:From c:\\users\\silve\\appdata\\local\\programs\\python\\python37\\lib\\site-packages\\tensorflow_core\\python\\layers\\core.py:187: Layer.apply (from tensorflow.python.keras.engine.base_layer) is deprecated and will be removed in a future version.\n",
      "Instructions for updating:\n",
      "Please use `layer.__call__` method instead.\n",
      "WARNING:tensorflow:From c:\\users\\silve\\appdata\\local\\programs\\python\\python37\\lib\\site-packages\\tensorflow_core\\python\\ops\\resource_variable_ops.py:1635: calling BaseResourceVariable.__init__ (from tensorflow.python.ops.resource_variable_ops) with constraint is deprecated and will be removed in a future version.\n",
      "Instructions for updating:\n",
      "If using Keras pass *_constraint arguments to layers.\n",
      "WARNING:tensorflow:From c:\\users\\silve\\appdata\\local\\programs\\python\\python37\\lib\\site-packages\\tensorflow_core\\python\\training\\rmsprop.py:119: calling Ones.__init__ (from tensorflow.python.ops.init_ops) with dtype is deprecated and will be removed in a future version.\n",
      "Instructions for updating:\n",
      "Call initializer instance with the dtype argument instead of passing it to the constructor\n",
      "4x4, act_space = 4\n"
     ]
    }
   ],
   "source": [
    "# if __name__ == \"__main__\":\n",
    "env = Maze()\n",
    "rl = DRL(env)\n",
    "print('{0}x{1}, act_space = {2}'.format(env.MAZE_Limit[0],env.MAZE_Limit[1], len(env.action_space)))\n",
    "# env.bind('<KeyPress>', onKeyPress)\n",
    "# env.mainloop()"
   ]
  },
  {
   "cell_type": "code",
   "execution_count": 3,
   "metadata": {
    "scrolled": false
   },
   "outputs": [
    {
     "name": "stderr",
     "output_type": "stream",
     "text": [
      "100%|████████████████████████████████████████████████████████████████████████████████| 500/500 [00:40<00:00, 12.27it/s]\n"
     ]
    }
   ],
   "source": [
    "rl.Double_QDN.iteration(500)"
   ]
  },
  {
   "cell_type": "code",
   "execution_count": 4,
   "metadata": {},
   "outputs": [
    {
     "name": "stdout",
     "output_type": "stream",
     "text": [
      "[[ 12.652028     7.860937     5.8827553    4.5661564   14.697587\n",
      "    5.975169     1.5991597   -0.8739352    9.21387      0.3843534\n",
      "   -4.7839785   -7.802784     5.5202446   -3.566532   -10.183551\n",
      "  -13.220409  ]\n",
      " [  0.19871518   1.068582     0.76205564   0.19063076  -2.6230135\n",
      "   -2.1149728   -1.9074441   -2.1170745   -3.6166525   -2.8864846\n",
      "   -2.2379098   -2.1581554   -4.006759    -3.2397466   -2.350978\n",
      "   -2.2699819 ]\n",
      " [ -0.3647666   -1.7751942   -1.7478564   -1.9041154    0.51191545\n",
      "   -1.1845608   -1.5353822   -1.551078     0.65648943  -1.037082\n",
      "   -1.7940761   -1.5849711    0.8221567   -0.7117682   -1.9526182\n",
      "   -1.7431487 ]\n",
      " [ 16.317085    14.363539     9.605422     4.8279586    7.5633082\n",
      "    4.3442388   -0.23849356  -4.5451937    3.0948575    0.9537798\n",
      "   -3.3780851   -7.322503     1.8834692   -0.4960183   -4.7135234\n",
      "   -8.682492  ]]\n",
      "[Max] Action to State-value\n",
      " [[16.317085  14.363539   9.605422   4.8279586]\n",
      " [14.697587   5.975169   1.5991597 -0.8739352]\n",
      " [ 9.21387    0.9537798 -1.7940761 -1.5849711]\n",
      " [ 5.5202446 -0.4960183 -1.9526182 -1.7431487]]\n",
      "[Max] Best action in each state\n",
      " [[3 3 3 3]\n",
      " [0 0 0 0]\n",
      " [0 3 2 2]\n",
      " [0 3 2 2]]\n"
     ]
    }
   ],
   "source": [
    "Avalue = np.squeeze(np.transpose(np.array(rl.Double_QDN.Avalue), (2, 0, 1)))\n",
    "print(Avalue)\n",
    "print(\"[Max] Action to State-value\\n\",np.max(Avalue,axis=0).reshape(env.MAZE_Limit[1],env.MAZE_Limit[0]))\n",
    "print(\"[Max] Best action in each state\\n\",np.argmax(Avalue,axis=0).reshape(env.MAZE_Limit[1],env.MAZE_Limit[0]))"
   ]
  },
  {
   "cell_type": "code",
   "execution_count": 5,
   "metadata": {},
   "outputs": [
    {
     "data": {
      "image/png": "[encoded data removed]",
      "text/plain": [
       "<Figure size 432x288 with 1 Axes>"
      ]
     },
     "metadata": {
      "needs_background": "light"
     },
     "output_type": "display_data"
    }
   ],
   "source": [
    "rl.Double_QDN.plot_cost()"
   ]
  },
  {
   "cell_type": "markdown",
   "metadata": {},
   "source": [
    "# testing field"
   ]
  },
  {
   "cell_type": "code",
   "execution_count": 6,
   "metadata": {},
   "outputs": [],
   "source": [
    "import time\n",
    "a = np.array([1,2,3,4,5])"
   ]
  },
  {
   "cell_type": "code",
   "execution_count": 7,
   "metadata": {},
   "outputs": [],
   "source": [
    "leng = 4"
   ]
  },
  {
   "cell_type": "code",
   "execution_count": 8,
   "metadata": {},
   "outputs": [],
   "source": [
    "tex = [i for i in range(2*leng-1)]"
   ]
  },
  {
   "cell_type": "code",
   "execution_count": 9,
   "metadata": {},
   "outputs": [
    {
     "data": {
      "text/plain": [
       "[3, 4, 5, 6]"
      ]
     },
     "execution_count": 9,
     "metadata": {},
     "output_type": "execute_result"
    }
   ],
   "source": [
    "tex[-leng:]"
   ]
  },
  {
   "cell_type": "code",
   "execution_count": 10,
   "metadata": {},
   "outputs": [],
   "source": [
    "# # t = time.time()\n",
    "# np.logspace(start=1,stop=len(a),num=len(a),endpoint=True,base=2)/2\n",
    "# # print(time.time()-t)"
   ]
  },
  {
   "cell_type": "code",
   "execution_count": 11,
   "metadata": {},
   "outputs": [],
   "source": [
    "# # t = time.time()\n",
    "# np.array([2**i for i in range(len(a))])\n",
    "# # print(time.time()-t)"
   ]
  }
 ],
 "metadata": {
  "kernelspec": {
   "display_name": "Python 3",
   "language": "python",
   "name": "python3"
  },
  "language_info": {
   "codemirror_mode": {
    "name": "ipython",
    "version": 3
   },
   "file_extension": ".py",
   "mimetype": "text/x-python",
   "name": "python",
   "nbconvert_exporter": "python",
   "pygments_lexer": "ipython3",
   "version": "3.7.7"
  }
 },
 "nbformat": 4,
 "nbformat_minor": 2
}
