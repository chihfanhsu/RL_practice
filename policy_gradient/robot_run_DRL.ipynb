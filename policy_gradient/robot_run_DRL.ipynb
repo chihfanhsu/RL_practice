{
 "cells": [
  {
   "cell_type": "code",
   "execution_count": 1,
   "metadata": {},
   "outputs": [],
   "source": [
    "import os\n",
    "from maze_env import Maze\n",
    "from PG import DRL\n",
    "import time\n",
    "import numpy as np"
   ]
  },
  {
   "cell_type": "code",
   "execution_count": 2,
   "metadata": {
    "scrolled": false
   },
   "outputs": [
    {
     "name": "stdout",
     "output_type": "stream",
     "text": [
      "WARNING:tensorflow:From c:\\silver\\workspace\\project\\RL_practice\\policy_gradient\\model.py:5: dense (from tensorflow.python.layers.core) is deprecated and will be removed in a future version.\n",
      "Instructions for updating:\n",
      "Use keras.layers.Dense instead.\n",
      "WARNING:tensorflow:From c:\\users\\silve\\appdata\\local\\programs\\python\\python37\\lib\\site-packages\\tensorflow_core\\python\\layers\\core.py:187: Layer.apply (from tensorflow.python.keras.engine.base_layer) is deprecated and will be removed in a future version.\n",
      "Instructions for updating:\n",
      "Please use `layer.__call__` method instead.\n",
      "WARNING:tensorflow:From c:\\users\\silve\\appdata\\local\\programs\\python\\python37\\lib\\site-packages\\tensorflow_core\\python\\ops\\resource_variable_ops.py:1635: calling BaseResourceVariable.__init__ (from tensorflow.python.ops.resource_variable_ops) with constraint is deprecated and will be removed in a future version.\n",
      "Instructions for updating:\n",
      "If using Keras pass *_constraint arguments to layers.\n",
      "4x4, act_space = 4\n"
     ]
    }
   ],
   "source": [
    "# if __name__ == \"__main__\":\n",
    "env = Maze()\n",
    "rl = DRL(env)\n",
    "print('{0}x{1}, act_space = {2}'.format(env.MAZE_Limit[0],env.MAZE_Limit[1], len(env.action_space)))\n",
    "# env.bind('<KeyPress>', onKeyPress)\n",
    "# env.mainloop()"
   ]
  },
  {
   "cell_type": "code",
   "execution_count": 3,
   "metadata": {
    "scrolled": true
   },
   "outputs": [
    {
     "name": "stderr",
     "output_type": "stream",
     "text": [
      "  0%|▏                                                                                 | 1/400 [00:00<05:13,  1.27it/s]"
     ]
    },
    {
     "name": "stdout",
     "output_type": "stream",
     "text": [
      "episode: 0 reward: -17\n",
      "episode: 1 reward: 7\n",
      "episode: "
     ]
    },
    {
     "name": "stderr",
     "output_type": "stream",
     "text": [
      "\r",
      "  1%|▌                                                                                 | 3/400 [00:00<03:48,  1.74it/s]"
     ]
    },
    {
     "name": "stdout",
     "output_type": "stream",
     "text": [
      "2 reward: 1\n",
      "episode: 3 reward: 4\n"
     ]
    },
    {
     "name": "stderr",
     "output_type": "stream",
     "text": [
      "\r",
      "  1%|█                                                                                 | 5/400 [00:02<03:43,  1.77it/s]"
     ]
    },
    {
     "name": "stdout",
     "output_type": "stream",
     "text": [
      "episode: 4 reward: -65\n"
     ]
    },
    {
     "name": "stderr",
     "output_type": "stream",
     "text": [
      "  2%|█▍                                                                                | 7/400 [00:02<02:29,  2.62it/s]"
     ]
    },
    {
     "name": "stdout",
     "output_type": "stream",
     "text": [
      "episode: 5 reward: -13\n",
      "episode: 6 reward: 1\n"
     ]
    },
    {
     "name": "stderr",
     "output_type": "stream",
     "text": [
      "\r",
      "  2%|█▋                                                                                | 8/400 [00:03<03:26,  1.90it/s]"
     ]
    },
    {
     "name": "stdout",
     "output_type": "stream",
     "text": [
      "episode: 7 reward: -59\n"
     ]
    },
    {
     "name": "stderr",
     "output_type": "stream",
     "text": [
      "\r",
      "  2%|█▊                                                                                | 9/400 [00:05<07:21,  1.13s/it]"
     ]
    },
    {
     "name": "stdout",
     "output_type": "stream",
     "text": [
      "episode: 8 reward: -193\n",
      "episode: 9 reward: 6\n"
     ]
    },
    {
     "name": "stderr",
     "output_type": "stream",
     "text": [
      "  3%|██▋                                                                              | 13/400 [00:06<03:50,  1.68it/s]"
     ]
    },
    {
     "name": "stdout",
     "output_type": "stream",
     "text": [
      "episode: 10 reward: -4\n",
      "episode: 11 reward: 8\n",
      "episode: 12 reward: 5\n",
      "episode: 13 reward: 7\n"
     ]
    },
    {
     "name": "stderr",
     "output_type": "stream",
     "text": [
      "\r",
      "  4%|███                                                                              | 15/400 [00:07<03:37,  1.77it/s]"
     ]
    },
    {
     "name": "stdout",
     "output_type": "stream",
     "text": [
      "episode: 14 reward: -65\n"
     ]
    },
    {
     "name": "stderr",
     "output_type": "stream",
     "text": [
      "  4%|███▍                                                                             | 17/400 [00:07<02:26,  2.62it/s]"
     ]
    },
    {
     "name": "stdout",
     "output_type": "stream",
     "text": [
      "episode: 15 reward: -13\n",
      "episode: 16 reward: -1\n",
      "episode: 17 reward: 7\n"
     ]
    },
    {
     "name": "stderr",
     "output_type": "stream",
     "text": [
      "  5%|████▎                                                                            | 21/400 [00:08<01:31,  4.13it/s]"
     ]
    },
    {
     "name": "stdout",
     "output_type": "stream",
     "text": [
      "episode: 18 reward: -10\n",
      "episode: 19 reward: 4\n",
      "episode: 20 reward: 6\n"
     ]
    },
    {
     "name": "stderr",
     "output_type": "stream",
     "text": [
      "\r",
      "  6%|████▋                                                                            | 23/400 [00:08<01:11,  5.26it/s]"
     ]
    },
    {
     "name": "stdout",
     "output_type": "stream",
     "text": [
      "episode: 21 reward: 3\n",
      "episode: 22 reward: 8\n",
      "episode: 23 reward: 7\n"
     ]
    },
    {
     "name": "stderr",
     "output_type": "stream",
     "text": [
      "  7%|█████▍                                                                           | 27/400 [00:08<00:50,  7.35it/s]"
     ]
    },
    {
     "name": "stdout",
     "output_type": "stream",
     "text": [
      "episode: 24 reward: 0\n",
      "episode: 25 reward: 3\n",
      "episode: 26 reward: 7\n"
     ]
    },
    {
     "name": "stderr",
     "output_type": "stream",
     "text": [
      "\r",
      "  7%|█████▊                                                                           | 29/400 [00:08<00:44,  8.33it/s]"
     ]
    },
    {
     "name": "stdout",
     "output_type": "stream",
     "text": [
      "episode: 27 reward: 5\n",
      "episode: 28 reward: 7\n",
      "episode: 29 reward: 8\n",
      "episode: 30 reward: 8\n"
     ]
    },
    {
     "name": "stderr",
     "output_type": "stream",
     "text": [
      "  9%|███████                                                                          | 35/400 [00:09<00:34, 10.61it/s]"
     ]
    },
    {
     "name": "stdout",
     "output_type": "stream",
     "text": [
      "episode: 31 reward: -7\n",
      "episode: 32 reward: 8\n",
      "episode: 33 reward: 8\n",
      "episode: 34 reward: 6\n"
     ]
    },
    {
     "name": "stderr",
     "output_type": "stream",
     "text": [
      "\r",
      "  9%|███████▍                                                                         | 37/400 [00:09<00:29, 12.31it/s]"
     ]
    },
    {
     "name": "stdout",
     "output_type": "stream",
     "text": [
      "episode: 35 reward: 6\n",
      "episode: 36 reward: 8\n",
      "episode: 37 reward: 8\n",
      "episode:"
     ]
    },
    {
     "name": "stderr",
     "output_type": "stream",
     "text": [
      " 10%|████████▎                                                                        | 41/400 [00:09<00:28, 12.58it/s]"
     ]
    },
    {
     "name": "stdout",
     "output_type": "stream",
     "text": [
      " 38 reward: 3\n",
      "episode: 39 reward: 3\n",
      "episode: 40 reward: 6\n",
      "episode:"
     ]
    },
    {
     "name": "stderr",
     "output_type": "stream",
     "text": [
      "\r",
      " 11%|████████▉                                                                        | 44/400 [00:09<00:25, 13.84it/s]"
     ]
    },
    {
     "name": "stdout",
     "output_type": "stream",
     "text": [
      " 41 reward: 8\n",
      "episode: 42 reward: 7\n",
      "episode: 43 reward: 5\n"
     ]
    },
    {
     "name": "stderr",
     "output_type": "stream",
     "text": [
      " 12%|█████████▉                                                                       | 49/400 [00:10<00:23, 15.02it/s]"
     ]
    },
    {
     "name": "stdout",
     "output_type": "stream",
     "text": [
      "episode: 44 reward: 1\n",
      "episode: 45 reward: 8\n",
      "episode: 46 reward: 8\n",
      "episode: 47 reward: 8\n",
      "episode: 48 reward: 8\n"
     ]
    },
    {
     "name": "stderr",
     "output_type": "stream",
     "text": [
      "\r",
      " 13%|██████████▌                                                                      | 52/400 [00:10<00:20, 17.01it/s]"
     ]
    },
    {
     "name": "stdout",
     "output_type": "stream",
     "text": [
      "episode: 49 reward: 8\n",
      "episode: 50 reward: 8\n",
      "episode: 51 reward: 8\n",
      "episode: 52 reward: 4\n"
     ]
    },
    {
     "name": "stderr",
     "output_type": "stream",
     "text": [
      " 14%|███████████▎                                                                     | 56/400 [00:10<00:21, 16.17it/s]"
     ]
    },
    {
     "name": "stdout",
     "output_type": "stream",
     "text": [
      "episode: 53 reward: 6\n",
      "episode: 54 reward: 8\n",
      "episode: 55 reward: 8\n",
      "episode: 56 reward: 8\n",
      "episode:"
     ]
    },
    {
     "name": "stderr",
     "output_type": "stream",
     "text": [
      "\r",
      " 15%|███████████▉                                                                     | 59/400 [00:10<00:19, 17.50it/s]"
     ]
    },
    {
     "name": "stdout",
     "output_type": "stream",
     "text": [
      " 57 reward: 8\n",
      "episode: 58 reward: 8\n",
      "episode: 59 reward: 8\n",
      "episode: 60 reward: 8\n",
      "episode:"
     ]
    },
    {
     "name": "stderr",
     "output_type": "stream",
     "text": [
      " 16%|████████████▉                                                                    | 64/400 [00:10<00:20, 16.77it/s]"
     ]
    },
    {
     "name": "stdout",
     "output_type": "stream",
     "text": [
      " 61 reward: 8\n",
      "episode: 62 reward: 8\n",
      "episode: 63 reward: 7\n"
     ]
    },
    {
     "name": "stderr",
     "output_type": "stream",
     "text": [
      "\r",
      " 16%|█████████████▎                                                                   | 66/400 [00:11<00:22, 14.73it/s]"
     ]
    },
    {
     "name": "stdout",
     "output_type": "stream",
     "text": [
      "episode: 64 reward: 8\n",
      "episode: 65 reward: 3\n"
     ]
    },
    {
     "name": "stderr",
     "output_type": "stream",
     "text": [
      "\r",
      " 17%|█████████████▊                                                                   | 68/400 [00:11<00:21, 15.13it/s]"
     ]
    },
    {
     "name": "stdout",
     "output_type": "stream",
     "text": [
      "episode: 66 reward: 5\n",
      "episode: 67 reward: 8\n",
      "episode: 68 reward: 8\n",
      "episode: 69 reward: 8\n",
      "episode:"
     ]
    },
    {
     "name": "stderr",
     "output_type": "stream",
     "text": [
      "\r",
      " 18%|██████████████▍                                                                  | 71/400 [00:11<00:19, 16.54it/s]"
     ]
    },
    {
     "name": "stdout",
     "output_type": "stream",
     "text": [
      " 70 reward: 8\n",
      "episode: 71 reward: 2\n"
     ]
    },
    {
     "name": "stderr",
     "output_type": "stream",
     "text": [
      " 19%|███████████████▍                                                                 | 76/400 [00:11<00:21, 14.98it/s]"
     ]
    },
    {
     "name": "stdout",
     "output_type": "stream",
     "text": [
      "episode: 72 reward: 8\n",
      "episode: 73 reward: 8\n",
      "episode: 74 reward: 7\n",
      "episode: 75 reward: 6\n"
     ]
    },
    {
     "name": "stderr",
     "output_type": "stream",
     "text": [
      " 20%|████████████████▏                                                                | 80/400 [00:11<00:19, 16.15it/s]"
     ]
    },
    {
     "name": "stdout",
     "output_type": "stream",
     "text": [
      "episode: 76 reward: 8\n",
      "episode: 77 reward: 8\n",
      "episode: 78 reward: 8\n",
      "episode: 79 reward: 8\n"
     ]
    },
    {
     "name": "stderr",
     "output_type": "stream",
     "text": [
      "\r",
      " 21%|████████████████▊                                                                | 83/400 [00:12<00:17, 17.88it/s]"
     ]
    },
    {
     "name": "stdout",
     "output_type": "stream",
     "text": [
      "episode: 80 reward: 8\n",
      "episode: 81 reward: 8\n",
      "episode: 82 reward: 8\n",
      "episode: 83 reward: 5\n"
     ]
    },
    {
     "name": "stderr",
     "output_type": "stream",
     "text": [
      " 22%|█████████████████▊                                                               | 88/400 [00:12<00:16, 18.70it/s]"
     ]
    },
    {
     "name": "stdout",
     "output_type": "stream",
     "text": [
      "episode: 84 reward: 8\n",
      "episode: 85 reward: 8\n",
      "episode: 86 reward: 8\n",
      "episode: 87 reward: 8\n",
      "episode: 88 reward: 8\n"
     ]
    },
    {
     "name": "stderr",
     "output_type": "stream",
     "text": [
      " 24%|███████████████████                                                              | 94/400 [00:12<00:14, 20.85it/s]"
     ]
    },
    {
     "name": "stdout",
     "output_type": "stream",
     "text": [
      "episode: 89 reward: 8\n",
      "episode: 90 reward: 8\n",
      "episode: 91 reward: 8\n",
      "episode: 92 reward: 8\n",
      "episode: 93 reward: 8\n"
     ]
    },
    {
     "name": "stderr",
     "output_type": "stream",
     "text": [
      "\r",
      " 24%|███████████████████▋                                                             | 97/400 [00:12<00:15, 18.99it/s]"
     ]
    },
    {
     "name": "stdout",
     "output_type": "stream",
     "text": [
      "episode: 94 reward: 8\n",
      "episode: 95 reward: 8\n",
      "episode: 96 reward: 6\n"
     ]
    },
    {
     "name": "stderr",
     "output_type": "stream",
     "text": [
      " 25%|████████████████████▏                                                           | 101/400 [00:12<00:16, 18.58it/s]"
     ]
    },
    {
     "name": "stdout",
     "output_type": "stream",
     "text": [
      "episode: 97 reward: 8\n",
      "episode: 98 reward: 8\n",
      "episode: 99 reward: 6\n",
      "episode: 100 reward: 8\n",
      "episode: 101 reward: 8\n"
     ]
    },
    {
     "name": "stderr",
     "output_type": "stream",
     "text": [
      "\r",
      " 26%|████████████████████▊                                                           | 104/400 [00:13<00:15, 19.25it/s]"
     ]
    },
    {
     "name": "stdout",
     "output_type": "stream",
     "text": [
      "episode: 102 reward: 8\n",
      "episode: 103 reward: 7\n",
      "episode: 104 reward: 8\n",
      "episode: 105 reward: 8\n",
      "episode:"
     ]
    },
    {
     "name": "stderr",
     "output_type": "stream",
     "text": [
      " 28%|██████████████████████                                                          | 110/400 [00:13<00:14, 20.31it/s]"
     ]
    },
    {
     "name": "stdout",
     "output_type": "stream",
     "text": [
      " 106 reward: 8\n",
      "episode: 107 reward: 8\n",
      "episode: 108 reward: 7\n",
      "episode: 109 reward: 8\n",
      "episode: 110 reward: 8\n"
     ]
    },
    {
     "name": "stderr",
     "output_type": "stream",
     "text": [
      "\r",
      " 28%|██████████████████████▌                                                         | 113/400 [00:13<00:15, 18.69it/s]"
     ]
    },
    {
     "name": "stdout",
     "output_type": "stream",
     "text": [
      "episode: 111 reward: 8\n",
      "episode: 112 reward: 8\n",
      "episode: 113 reward: 8\n"
     ]
    },
    {
     "name": "stderr",
     "output_type": "stream",
     "text": [
      " 29%|███████████████████████▍                                                        | 117/400 [00:13<00:16, 17.34it/s]"
     ]
    },
    {
     "name": "stdout",
     "output_type": "stream",
     "text": [
      "episode: 114 reward: 8\n",
      "episode: 115 reward: 8\n",
      "episode: 116 reward: 8\n",
      "episode: 117 reward: 8\n"
     ]
    },
    {
     "name": "stderr",
     "output_type": "stream",
     "text": [
      "\r",
      " 30%|████████████████████████                                                        | 120/400 [00:13<00:15, 18.41it/s]"
     ]
    },
    {
     "name": "stdout",
     "output_type": "stream",
     "text": [
      "episode: 118 reward: 8\n",
      "episode: 119 reward: 8\n",
      "episode: 120 reward: 8\n",
      "episode: 121 reward: 7\n"
     ]
    },
    {
     "name": "stderr",
     "output_type": "stream",
     "text": [
      " 31%|█████████████████████████                                                       | 125/400 [00:14<00:14, 18.90it/s]"
     ]
    },
    {
     "name": "stdout",
     "output_type": "stream",
     "text": [
      "episode: 122 reward: 8\n",
      "episode: 123 reward: 8\n",
      "episode: 124 reward: 7\n",
      "episode: 125 reward: 8\n"
     ]
    },
    {
     "name": "stderr",
     "output_type": "stream",
     "text": [
      " 32%|██████████████████████████                                                      | 130/400 [00:14<00:14, 18.39it/s]"
     ]
    },
    {
     "name": "stdout",
     "output_type": "stream",
     "text": [
      "episode: 126 reward: 7\n",
      "episode: 127 reward: 8\n",
      "episode: 128 reward: 8\n",
      "episode: 129 reward: 5\n"
     ]
    },
    {
     "name": "stderr",
     "output_type": "stream",
     "text": [
      "\r",
      " 33%|██████████████████████████▌                                                     | 133/400 [00:14<00:13, 19.40it/s]"
     ]
    },
    {
     "name": "stdout",
     "output_type": "stream",
     "text": [
      "episode: 130 reward: 8\n",
      "episode: 131 reward: 8\n",
      "episode: 132 reward: 8\n",
      "episode: 133 reward: 8\n",
      "episode: 134 "
     ]
    },
    {
     "name": "stderr",
     "output_type": "stream",
     "text": [
      "\r",
      " 34%|███████████████████████████▏                                                    | 136/400 [00:14<00:13, 19.94it/s]"
     ]
    },
    {
     "name": "stdout",
     "output_type": "stream",
     "text": [
      "reward: 8\n",
      "episode: 135 reward: 8\n",
      "episode: 136 reward: 8\n",
      "episode: 137 reward: 8\n",
      "episode: 138 reward: 8\n"
     ]
    },
    {
     "name": "stderr",
     "output_type": "stream",
     "text": [
      " 36%|████████████████████████████▍                                                   | 142/400 [00:15<00:12, 20.76it/s]"
     ]
    },
    {
     "name": "stdout",
     "output_type": "stream",
     "text": [
      "episode: 139 reward: 8\n",
      "episode: 140 reward: 8\n",
      "episode: 141 reward: 8\n",
      "episode: 142 reward: 8\n",
      "episode: 143 reward: 8\n"
     ]
    },
    {
     "name": "stderr",
     "output_type": "stream",
     "text": [
      " 37%|█████████████████████████████▌                                                  | 148/400 [00:15<00:12, 20.34it/s]"
     ]
    },
    {
     "name": "stdout",
     "output_type": "stream",
     "text": [
      "episode: 144 reward: 8\n",
      "episode: 145 reward: 7\n",
      "episode: 146 reward: 8\n",
      "episode: 147 reward: 8\n"
     ]
    },
    {
     "name": "stderr",
     "output_type": "stream",
     "text": [
      "\r",
      " 38%|██████████████████████████████▏                                                 | 151/400 [00:15<00:12, 20.42it/s]"
     ]
    },
    {
     "name": "stdout",
     "output_type": "stream",
     "text": [
      "episode: 148 reward: 8\n",
      "episode: 149 reward: 8\n",
      "episode: 150 reward: 8\n",
      "episode: 151 reward: 8\n",
      "episode:"
     ]
    },
    {
     "name": "stderr",
     "output_type": "stream",
     "text": [
      "\r",
      " 38%|██████████████████████████████▊                                                 | 154/400 [00:15<00:12, 19.40it/s]"
     ]
    },
    {
     "name": "stdout",
     "output_type": "stream",
     "text": [
      " 152 reward: 8\n",
      "episode: 153 reward: 6\n",
      "episode: 154 reward: 8\n",
      "episode: 155 reward: 8\n"
     ]
    },
    {
     "name": "stderr",
     "output_type": "stream",
     "text": [
      " 40%|███████████████████████████████▊                                                | 159/400 [00:15<00:12, 19.76it/s]"
     ]
    },
    {
     "name": "stdout",
     "output_type": "stream",
     "text": [
      "episode: 156 reward: 8\n",
      "episode: 157 reward: 8\n",
      "episode: 158 reward: 8\n",
      "episode: 159 reward: 8\n",
      "episode: 160 reward: 8\n"
     ]
    },
    {
     "name": "stderr",
     "output_type": "stream",
     "text": [
      " 41%|█████████████████████████████████                                               | 165/400 [00:16<00:11, 20.31it/s]"
     ]
    },
    {
     "name": "stdout",
     "output_type": "stream",
     "text": [
      "episode: 161 reward: 8\n",
      "episode: 162 reward: 8\n",
      "episode: 163 reward: 8\n",
      "episode: 164 reward: 8\n",
      "episode:"
     ]
    },
    {
     "name": "stderr",
     "output_type": "stream",
     "text": [
      "\r",
      " 42%|█████████████████████████████████▌                                              | 168/400 [00:16<00:11, 20.31it/s]"
     ]
    },
    {
     "name": "stdout",
     "output_type": "stream",
     "text": [
      " 165 reward: 8\n",
      "episode: 166 reward: 8\n",
      "episode: 167 reward: 8\n",
      "episode: 168 reward: 8\n"
     ]
    },
    {
     "name": "stderr",
     "output_type": "stream",
     "text": [
      "\r",
      " 43%|██████████████████████████████████▏                                             | 171/400 [00:16<00:11, 20.36it/s]"
     ]
    },
    {
     "name": "stdout",
     "output_type": "stream",
     "text": [
      "episode: 169 reward: 8\n",
      "episode: 170 reward: 8\n",
      "episode: 171 reward: 8\n",
      "episode: 172 reward: 8\n"
     ]
    },
    {
     "name": "stderr",
     "output_type": "stream",
     "text": [
      " 44%|███████████████████████████████████▍                                            | 177/400 [00:16<00:11, 19.91it/s]"
     ]
    },
    {
     "name": "stdout",
     "output_type": "stream",
     "text": [
      "episode: 173 reward: 8\n",
      "episode: 174 reward: 8\n",
      "episode: 175 reward: 8\n",
      "episode: 176 reward: 8\n"
     ]
    },
    {
     "name": "stderr",
     "output_type": "stream",
     "text": [
      " 45%|████████████████████████████████████▏                                           | 181/400 [00:17<00:11, 19.75it/s]"
     ]
    },
    {
     "name": "stdout",
     "output_type": "stream",
     "text": [
      "episode: 177 reward: 8\n",
      "episode: 178 reward: 8\n",
      "episode: 179 reward: 8\n",
      "episode: 180 reward: 8\n"
     ]
    },
    {
     "name": "stderr",
     "output_type": "stream",
     "text": [
      "\r",
      " 46%|████████████████████████████████████▌                                           | 183/400 [00:17<00:11, 19.32it/s]"
     ]
    },
    {
     "name": "stdout",
     "output_type": "stream",
     "text": [
      "episode: 181 reward: 8\n",
      "episode: 182 reward: 7\n",
      "episode: 183 reward: 8\n",
      "episode: 184 reward: 8\n"
     ]
    },
    {
     "name": "stderr",
     "output_type": "stream",
     "text": [
      " 47%|█████████████████████████████████████▌                                          | 188/400 [00:17<00:10, 19.68it/s]"
     ]
    },
    {
     "name": "stdout",
     "output_type": "stream",
     "text": [
      "episode: 185 reward: 8\n",
      "episode: 186 reward: 8\n",
      "episode: 187 reward: 8\n",
      "episode: 188 reward: 8\n"
     ]
    },
    {
     "name": "stderr",
     "output_type": "stream",
     "text": [
      " 48%|██████████████████████████████████████▌                                         | 193/400 [00:17<00:10, 19.49it/s]"
     ]
    },
    {
     "name": "stdout",
     "output_type": "stream",
     "text": [
      "episode: 189 reward: 8\n",
      "episode: 190 reward: 8\n",
      "episode: 191 reward: 8\n",
      "episode: 192 reward: 7\n"
     ]
    },
    {
     "name": "stderr",
     "output_type": "stream",
     "text": [
      "\r",
      " 49%|███████████████████████████████████████▏                                        | 196/400 [00:17<00:10, 19.80it/s]"
     ]
    },
    {
     "name": "stdout",
     "output_type": "stream",
     "text": [
      "episode: 193 reward: 8\n",
      "episode: 194 reward: 8\n",
      "episode: 195 reward: 8\n",
      "episode: 196 reward: 8\n",
      "episode: 197 reward: 8\n"
     ]
    },
    {
     "name": "stderr",
     "output_type": "stream",
     "text": [
      " 50%|████████████████████████████████████████▏                                       | 201/400 [00:18<00:10, 19.58it/s]"
     ]
    },
    {
     "name": "stdout",
     "output_type": "stream",
     "text": [
      "episode: 198 reward: 8\n",
      "episode: 199 reward: 8\n",
      "episode: 200 reward: 8\n",
      "episode: 201 reward: 8\n"
     ]
    },
    {
     "name": "stderr",
     "output_type": "stream",
     "text": [
      " 51%|█████████████████████████████████████████                                       | 205/400 [00:18<00:10, 19.31it/s]"
     ]
    },
    {
     "name": "stdout",
     "output_type": "stream",
     "text": [
      "episode: 202 reward: 8\n",
      "episode: 203 reward: 8\n",
      "episode: 204 reward: 8\n",
      "episode: 205 reward: 8\n"
     ]
    },
    {
     "name": "stderr",
     "output_type": "stream",
     "text": [
      " 52%|█████████████████████████████████████████▊                                      | 209/400 [00:18<00:09, 19.48it/s]"
     ]
    },
    {
     "name": "stdout",
     "output_type": "stream",
     "text": [
      "episode: 206 reward: 8\n",
      "episode: 207 reward: 8\n",
      "episode: 208 reward: 8\n",
      "episode: 209 reward: 8\n"
     ]
    },
    {
     "name": "stderr",
     "output_type": "stream",
     "text": [
      " 53%|██████████████████████████████████████████▌                                     | 213/400 [00:18<00:11, 16.33it/s]"
     ]
    },
    {
     "name": "stdout",
     "output_type": "stream",
     "text": [
      "episode: 210 reward: 8\n",
      "episode: 211 reward: 8\n",
      "episode: 212 reward: 8\n"
     ]
    },
    {
     "name": "stderr",
     "output_type": "stream",
     "text": [
      " 54%|███████████████████████████████████████████▍                                    | 217/400 [00:18<00:10, 16.75it/s]"
     ]
    },
    {
     "name": "stdout",
     "output_type": "stream",
     "text": [
      "episode: 213 reward: 8\n",
      "episode: 214 reward: 6\n",
      "episode: 215 reward: 8\n",
      "episode: 216 reward: 8\n"
     ]
    },
    {
     "name": "stderr",
     "output_type": "stream",
     "text": [
      "\r",
      " 55%|███████████████████████████████████████████▊                                    | 219/400 [00:19<00:10, 16.94it/s]"
     ]
    },
    {
     "name": "stdout",
     "output_type": "stream",
     "text": [
      "episode: 217 reward: 8\n",
      "episode: 218 reward: 8\n",
      "episode: 219 reward: 8\n"
     ]
    },
    {
     "name": "stderr",
     "output_type": "stream",
     "text": [
      " 56%|████████████████████████████████████████████▌                                   | 223/400 [00:19<00:11, 15.90it/s]"
     ]
    },
    {
     "name": "stdout",
     "output_type": "stream",
     "text": [
      "episode: 220 reward: 8\n",
      "episode: 221 reward: 8\n",
      "episode: 222 reward: 8\n",
      "episode:"
     ]
    },
    {
     "name": "stderr",
     "output_type": "stream",
     "text": [
      " 57%|█████████████████████████████████████████████▍                                  | 227/400 [00:19<00:10, 17.13it/s]"
     ]
    },
    {
     "name": "stdout",
     "output_type": "stream",
     "text": [
      " 223 reward: 8\n",
      "episode: 224 reward: 8\n",
      "episode: 225 reward: 8\n",
      "episode: 226 reward: 8\n"
     ]
    },
    {
     "name": "stderr",
     "output_type": "stream",
     "text": [
      " 58%|██████████████████████████████████████████████▏                                 | 231/400 [00:19<00:09, 18.00it/s]"
     ]
    },
    {
     "name": "stdout",
     "output_type": "stream",
     "text": [
      "episode: 227 reward: 8\n",
      "episode: 228 reward: 8\n",
      "episode: 229 reward: 8\n",
      "episode: 230 reward: 8\n"
     ]
    },
    {
     "name": "stderr",
     "output_type": "stream",
     "text": [
      " 59%|███████████████████████████████████████████████                                 | 235/400 [00:19<00:08, 18.45it/s]"
     ]
    },
    {
     "name": "stdout",
     "output_type": "stream",
     "text": [
      "episode: 231 reward: 8\n",
      "episode: 232 reward: 8\n",
      "episode: 233 reward: 8\n",
      "episode: 234 reward: 8\n"
     ]
    },
    {
     "name": "stderr",
     "output_type": "stream",
     "text": [
      " 60%|███████████████████████████████████████████████▊                                | 239/400 [00:20<00:08, 18.71it/s]"
     ]
    },
    {
     "name": "stdout",
     "output_type": "stream",
     "text": [
      "episode: 235 reward: 8\n",
      "episode: 236 reward: 8\n",
      "episode: 237 reward: 8\n",
      "episode: 238 reward: 8\n"
     ]
    },
    {
     "name": "stderr",
     "output_type": "stream",
     "text": [
      "\r",
      " 60%|████████████████████████████████████████████████▏                               | 241/400 [00:20<00:08, 18.20it/s]"
     ]
    },
    {
     "name": "stdout",
     "output_type": "stream",
     "text": [
      "episode: 239 reward: 8\n",
      "episode: 240 reward: 8\n",
      "episode: 241 reward: 8\n",
      "episode: 242 reward: 8\n"
     ]
    },
    {
     "name": "stderr",
     "output_type": "stream",
     "text": [
      " 62%|█████████████████████████████████████████████████▍                              | 247/400 [00:20<00:08, 17.30it/s]"
     ]
    },
    {
     "name": "stdout",
     "output_type": "stream",
     "text": [
      "episode: 243 reward: 8\n",
      "episode: 244 reward: 8\n",
      "episode: 245 reward: 8\n",
      "episode: 246 reward: 8\n"
     ]
    },
    {
     "name": "stderr",
     "output_type": "stream",
     "text": [
      "\r",
      " 62%|█████████████████████████████████████████████████▊                              | 249/400 [00:20<00:08, 16.95it/s]"
     ]
    },
    {
     "name": "stdout",
     "output_type": "stream",
     "text": [
      "episode: 247 reward: 8\n",
      "episode: 248 reward: 8\n",
      "episode: 249 reward: 8\n",
      "episode: 250 reward: 8\n"
     ]
    },
    {
     "name": "stderr",
     "output_type": "stream",
     "text": [
      " 63%|██████████████████████████████████████████████████▌                             | 253/400 [00:21<00:08, 17.11it/s]"
     ]
    },
    {
     "name": "stdout",
     "output_type": "stream",
     "text": [
      "episode: 251 reward: 8\n",
      "episode: 252 reward: 8\n",
      "episode: 253 reward: 8\n",
      "episode: 254 reward: 6\n"
     ]
    },
    {
     "name": "stderr",
     "output_type": "stream",
     "text": [
      " 65%|███████████████████████████████████████████████████▊                            | 259/400 [00:21<00:08, 17.39it/s]"
     ]
    },
    {
     "name": "stdout",
     "output_type": "stream",
     "text": [
      "episode: 255 reward: 8\n",
      "episode: 256 reward: 8\n",
      "episode: 257 reward: 8\n",
      "episode: 258 reward: 8\n"
     ]
    },
    {
     "name": "stderr",
     "output_type": "stream",
     "text": [
      " 66%|████████████████████████████████████████████████████▌                           | 263/400 [00:21<00:07, 17.61it/s]"
     ]
    },
    {
     "name": "stdout",
     "output_type": "stream",
     "text": [
      "episode: 259 reward: 8\n",
      "episode: 260 reward: 8\n",
      "episode: 261 reward: 8\n",
      "episode: 262 reward: 8\n"
     ]
    },
    {
     "name": "stderr",
     "output_type": "stream",
     "text": [
      " 67%|█████████████████████████████████████████████████████▍                          | 267/400 [00:21<00:07, 17.58it/s]"
     ]
    },
    {
     "name": "stdout",
     "output_type": "stream",
     "text": [
      "episode: 263 reward: 8\n",
      "episode: 264 reward: 8\n",
      "episode: 265 reward: 8\n",
      "episode: 266 reward: 8\n"
     ]
    },
    {
     "name": "stderr",
     "output_type": "stream",
     "text": [
      "\r",
      " 67%|█████████████████████████████████████████████████████▊                          | 269/400 [00:21<00:07, 17.66it/s]"
     ]
    },
    {
     "name": "stdout",
     "output_type": "stream",
     "text": [
      "episode: 267 reward: 8\n",
      "episode: 268 reward: 8\n",
      "episode: 269 reward: 8\n",
      "episode:"
     ]
    },
    {
     "name": "stderr",
     "output_type": "stream",
     "text": [
      " 68%|██████████████████████████████████████████████████████▌                         | 273/400 [00:22<00:08, 14.98it/s]"
     ]
    },
    {
     "name": "stdout",
     "output_type": "stream",
     "text": [
      " 270 reward: 8\n",
      "episode: 271 reward: 8\n",
      "episode: 272 reward: 8\n"
     ]
    },
    {
     "name": "stderr",
     "output_type": "stream",
     "text": [
      " 69%|███████████████████████████████████████████████████████▍                        | 277/400 [00:22<00:07, 16.36it/s]"
     ]
    },
    {
     "name": "stdout",
     "output_type": "stream",
     "text": [
      "episode: 273 reward: 8\n",
      "episode: 274 reward: 8\n",
      "episode: 275 reward: 8\n",
      "episode: 276 reward: 8\n"
     ]
    },
    {
     "name": "stderr",
     "output_type": "stream",
     "text": [
      "\r",
      " 70%|███████████████████████████████████████████████████████▊                        | 279/400 [00:22<00:07, 16.18it/s]"
     ]
    },
    {
     "name": "stdout",
     "output_type": "stream",
     "text": [
      "episode: 277 reward: 8\n",
      "episode: 278 reward: 8\n",
      "episode: 279 reward: 8\n"
     ]
    },
    {
     "name": "stderr",
     "output_type": "stream",
     "text": [
      " 71%|████████████████████████████████████████████████████████▌                       | 283/400 [00:22<00:07, 14.93it/s]"
     ]
    },
    {
     "name": "stdout",
     "output_type": "stream",
     "text": [
      "episode: 280 reward: 8\n",
      "episode: 281 reward: 8\n",
      "episode: 282 reward: 8\n",
      "episode: 283 reward: 8\n"
     ]
    },
    {
     "name": "stderr",
     "output_type": "stream",
     "text": [
      " 72%|█████████████████████████████████████████████████████████▍                      | 287/400 [00:23<00:06, 16.57it/s]"
     ]
    },
    {
     "name": "stdout",
     "output_type": "stream",
     "text": [
      "episode: 284 reward: 8\n",
      "episode: 285 reward: 8\n",
      "episode: 286 reward: 8\n",
      "episode: 287 reward: 8\n"
     ]
    },
    {
     "name": "stderr",
     "output_type": "stream",
     "text": [
      " 73%|██████████████████████████████████████████████████████████▏                     | 291/400 [00:23<00:06, 17.24it/s]"
     ]
    },
    {
     "name": "stdout",
     "output_type": "stream",
     "text": [
      "episode: 288 reward: 8\n",
      "episode: 289 reward: 8\n",
      "episode: 290 reward: 8\n",
      "episode: 291 reward: 8\n"
     ]
    },
    {
     "name": "stderr",
     "output_type": "stream",
     "text": [
      " 74%|███████████████████████████████████████████████████████████                     | 295/400 [00:23<00:06, 17.47it/s]"
     ]
    },
    {
     "name": "stdout",
     "output_type": "stream",
     "text": [
      "episode: 292 reward: 8\n",
      "episode: 293 reward: 8\n",
      "episode: 294 reward: 8\n",
      "episode: 295 reward: 8\n"
     ]
    },
    {
     "name": "stderr",
     "output_type": "stream",
     "text": [
      " 75%|███████████████████████████████████████████████████████████▊                    | 299/400 [00:23<00:05, 17.73it/s]"
     ]
    },
    {
     "name": "stdout",
     "output_type": "stream",
     "text": [
      "episode: 296 reward: 8\n",
      "episode: 297 reward: 8\n",
      "episode: 298 reward: 8\n",
      "episode: 299 reward: 8\n"
     ]
    },
    {
     "name": "stderr",
     "output_type": "stream",
     "text": [
      " 76%|████████████████████████████████████████████████████████████▌                   | 303/400 [00:24<00:05, 17.77it/s]"
     ]
    },
    {
     "name": "stdout",
     "output_type": "stream",
     "text": [
      "episode: 300 reward: 8\n",
      "episode: 301 reward: 8\n",
      "episode: 302 reward: 8\n",
      "episode: 303 reward: 8\n"
     ]
    },
    {
     "name": "stderr",
     "output_type": "stream",
     "text": [
      " 77%|█████████████████████████████████████████████████████████████▍                  | 307/400 [00:24<00:05, 17.87it/s]"
     ]
    },
    {
     "name": "stdout",
     "output_type": "stream",
     "text": [
      "episode: 304 reward: 8\n",
      "episode: 305 reward: 8\n",
      "episode: 306 reward: 8\n",
      "episode: 307 reward: 8\n"
     ]
    },
    {
     "name": "stderr",
     "output_type": "stream",
     "text": [
      "\r",
      " 77%|█████████████████████████████████████████████████████████████▊                  | 309/400 [00:24<00:05, 17.37it/s]"
     ]
    },
    {
     "name": "stdout",
     "output_type": "stream",
     "text": [
      "episode: 308 reward: 8\n",
      "episode: 309 reward: 8\n",
      "episode: 310 reward: 8\n"
     ]
    },
    {
     "name": "stderr",
     "output_type": "stream",
     "text": [
      " 79%|███████████████████████████████████████████████████████████████                 | 315/400 [00:24<00:05, 15.87it/s]"
     ]
    },
    {
     "name": "stdout",
     "output_type": "stream",
     "text": [
      "episode: 311 reward: 8\n",
      "episode: 312 reward: 8\n",
      "episode: 313 reward: 8\n",
      "episode: 314 reward: 8\n"
     ]
    },
    {
     "name": "stderr",
     "output_type": "stream",
     "text": [
      "\r",
      " 79%|███████████████████████████████████████████████████████████████▍                | 317/400 [00:24<00:05, 16.19it/s]"
     ]
    },
    {
     "name": "stdout",
     "output_type": "stream",
     "text": [
      "episode: 315 reward: 8\n",
      "episode: 316 reward: 8\n",
      "episode: 317 reward: 8\n"
     ]
    },
    {
     "name": "stderr",
     "output_type": "stream",
     "text": [
      " 80%|████████████████████████████████████████████████████████████████▏               | 321/400 [00:25<00:05, 15.31it/s]"
     ]
    },
    {
     "name": "stdout",
     "output_type": "stream",
     "text": [
      "episode: 318 reward: 8\n",
      "episode: 319 reward: 8\n",
      "episode: 320 reward: 8\n",
      "episode: 321 reward: 8\n"
     ]
    },
    {
     "name": "stderr",
     "output_type": "stream",
     "text": [
      " 81%|█████████████████████████████████████████████████████████████████               | 325/400 [00:25<00:05, 14.46it/s]"
     ]
    },
    {
     "name": "stdout",
     "output_type": "stream",
     "text": [
      "episode: 322 reward: 8\n",
      "episode: 323 reward: 8\n",
      "episode: 324 reward: 8\n"
     ]
    },
    {
     "name": "stderr",
     "output_type": "stream",
     "text": [
      " 82%|█████████████████████████████████████████████████████████████████▊              | 329/400 [00:25<00:04, 15.15it/s]"
     ]
    },
    {
     "name": "stdout",
     "output_type": "stream",
     "text": [
      "episode: 325 reward: 8\n",
      "episode: 326 reward: 8\n",
      "episode: 327 reward: 8\n",
      "episode: 328 reward: 8\n"
     ]
    },
    {
     "name": "stderr",
     "output_type": "stream",
     "text": [
      "\r",
      " 83%|██████████████████████████████████████████████████████████████████▏             | 331/400 [00:25<00:04, 13.93it/s]"
     ]
    },
    {
     "name": "stdout",
     "output_type": "stream",
     "text": [
      "episode: 329 reward: 8\n",
      "episode: 330 reward: 8\n",
      "episode: 331 reward: 8\n"
     ]
    },
    {
     "name": "stderr",
     "output_type": "stream",
     "text": [
      " 84%|███████████████████████████████████████████████████████████████████             | 335/400 [00:26<00:04, 13.63it/s]"
     ]
    },
    {
     "name": "stdout",
     "output_type": "stream",
     "text": [
      "episode: 332 reward: 8\n",
      "episode: 333 reward: 8\n",
      "episode: 334 reward: 8\n"
     ]
    },
    {
     "name": "stderr",
     "output_type": "stream",
     "text": [
      " 85%|███████████████████████████████████████████████████████████████████▊            | 339/400 [00:26<00:04, 15.10it/s]"
     ]
    },
    {
     "name": "stdout",
     "output_type": "stream",
     "text": [
      "episode: 335 reward: 8\n",
      "episode: 336 reward: 8\n",
      "episode: 337 reward: 8\n",
      "episode: 338 reward: 8\n"
     ]
    },
    {
     "name": "stderr",
     "output_type": "stream",
     "text": [
      "\r",
      " 85%|████████████████████████████████████████████████████████████████████▏           | 341/400 [00:26<00:04, 14.40it/s]"
     ]
    },
    {
     "name": "stdout",
     "output_type": "stream",
     "text": [
      "episode: 339 reward: 8\n",
      "episode: 340 reward: 8\n",
      "episode: 341 reward: 8\n"
     ]
    },
    {
     "name": "stderr",
     "output_type": "stream",
     "text": [
      " 86%|█████████████████████████████████████████████████████████████████████           | 345/400 [00:26<00:03, 14.71it/s]"
     ]
    },
    {
     "name": "stdout",
     "output_type": "stream",
     "text": [
      "episode: 342 reward: 8\n",
      "episode: 343 reward: 7\n",
      "episode: 344 reward: 8\n",
      "episode: 345 reward: 8\n"
     ]
    },
    {
     "name": "stderr",
     "output_type": "stream",
     "text": [
      " 87%|█████████████████████████████████████████████████████████████████████▊          | 349/400 [00:27<00:03, 13.93it/s]"
     ]
    },
    {
     "name": "stdout",
     "output_type": "stream",
     "text": [
      "episode: 346 reward: 8\n",
      "episode: 347 reward: 8\n",
      "episode: 348 reward: 8\n",
      "episode:"
     ]
    },
    {
     "name": "stderr",
     "output_type": "stream",
     "text": [
      "\r",
      " 88%|██████████████████████████████████████████████████████████████████████▏         | 351/400 [00:27<00:03, 14.60it/s]"
     ]
    },
    {
     "name": "stdout",
     "output_type": "stream",
     "text": [
      " 349 reward: 8\n",
      "episode: 350 reward: 8\n",
      "episode: 351 reward: 7\n",
      "episode: 352"
     ]
    },
    {
     "name": "stderr",
     "output_type": "stream",
     "text": [
      " 89%|███████████████████████████████████████████████████████████████████████         | 355/400 [00:27<00:02, 15.17it/s]"
     ]
    },
    {
     "name": "stdout",
     "output_type": "stream",
     "text": [
      " reward: 8\n",
      "episode: 353 reward: 8\n",
      "episode: 354 reward: 8\n",
      "episode: 355 reward: 8\n"
     ]
    },
    {
     "name": "stderr",
     "output_type": "stream",
     "text": [
      " 90%|███████████████████████████████████████████████████████████████████████▊        | 359/400 [00:27<00:02, 15.06it/s]"
     ]
    },
    {
     "name": "stdout",
     "output_type": "stream",
     "text": [
      "episode: 356 reward: 8\n",
      "episode: 357 reward: 8\n",
      "episode: 358 reward: 6\n"
     ]
    },
    {
     "name": "stderr",
     "output_type": "stream",
     "text": [
      "\r",
      " 90%|████████████████████████████████████████████████████████████████████████▏       | 361/400 [00:27<00:02, 15.38it/s]"
     ]
    },
    {
     "name": "stdout",
     "output_type": "stream",
     "text": [
      "episode: 359 reward: 8\n",
      "episode: 360 reward: 8\n",
      "episode: 361 reward: 8\n",
      "episode: "
     ]
    },
    {
     "name": "stderr",
     "output_type": "stream",
     "text": [
      " 91%|█████████████████████████████████████████████████████████████████████████       | 365/400 [00:28<00:02, 15.90it/s]"
     ]
    },
    {
     "name": "stdout",
     "output_type": "stream",
     "text": [
      "362 reward: 8\n",
      "episode: 363 reward: 8\n",
      "episode: 364 reward: 8\n",
      "episode: 365 reward: 8\n"
     ]
    },
    {
     "name": "stderr",
     "output_type": "stream",
     "text": [
      " 92%|█████████████████████████████████████████████████████████████████████████▊      | 369/400 [00:28<00:02, 14.84it/s]"
     ]
    },
    {
     "name": "stdout",
     "output_type": "stream",
     "text": [
      "episode: 366 reward: 8\n",
      "episode: 367 reward: 8\n",
      "episode: 368 reward: 8\n"
     ]
    },
    {
     "name": "stderr",
     "output_type": "stream",
     "text": [
      "\r",
      " 93%|██████████████████████████████████████████████████████████████████████████▏     | 371/400 [00:28<00:02, 14.45it/s]"
     ]
    },
    {
     "name": "stdout",
     "output_type": "stream",
     "text": [
      "episode: 369 reward: 8\n",
      "episode: 370 reward: 8\n",
      "episode: 371 reward: 8\n",
      "episode: 372 reward: 8\n"
     ]
    },
    {
     "name": "stderr",
     "output_type": "stream",
     "text": [
      " 94%|███████████████████████████████████████████████████████████████████████████     | 375/400 [00:28<00:01, 15.05it/s]"
     ]
    },
    {
     "name": "stdout",
     "output_type": "stream",
     "text": [
      "episode: 373 reward: 8\n",
      "episode: 374 reward: 8\n",
      "episode: 375 reward: 8\n"
     ]
    },
    {
     "name": "stderr",
     "output_type": "stream",
     "text": [
      " 95%|███████████████████████████████████████████████████████████████████████████▊    | 379/400 [00:29<00:01, 14.34it/s]"
     ]
    },
    {
     "name": "stdout",
     "output_type": "stream",
     "text": [
      "episode: 376 reward: 8\n",
      "episode: 377 reward: 8\n",
      "episode: 378 reward: 8\n",
      "episode: 379 reward: 8\n"
     ]
    },
    {
     "name": "stderr",
     "output_type": "stream",
     "text": [
      " 96%|████████████████████████████████████████████████████████████████████████████▌   | 383/400 [00:29<00:01, 13.71it/s]"
     ]
    },
    {
     "name": "stdout",
     "output_type": "stream",
     "text": [
      "episode: 380 reward: 8\n",
      "episode: 381 reward: 8\n",
      "episode: 382 reward: 8\n"
     ]
    },
    {
     "name": "stderr",
     "output_type": "stream",
     "text": [
      "\r",
      " 96%|█████████████████████████████████████████████████████████████████████████████   | 385/400 [00:29<00:01, 13.94it/s]"
     ]
    },
    {
     "name": "stdout",
     "output_type": "stream",
     "text": [
      "episode: 383 reward: 8\n",
      "episode: 384 reward: 8\n",
      "episode: 385 reward: 8\n",
      "episode: 386 reward: 8\n"
     ]
    },
    {
     "name": "stderr",
     "output_type": "stream",
     "text": [
      " 97%|█████████████████████████████████████████████████████████████████████████████▊  | 389/400 [00:29<00:00, 14.91it/s]"
     ]
    },
    {
     "name": "stdout",
     "output_type": "stream",
     "text": [
      "episode: 387 reward: 8\n",
      "episode: 388 reward: 8\n",
      "episode: 389 reward: 8\n"
     ]
    },
    {
     "name": "stderr",
     "output_type": "stream",
     "text": [
      "\r",
      " 98%|██████████████████████████████████████████████████████████████████████████████▏ | 391/400 [00:29<00:00, 14.17it/s]"
     ]
    },
    {
     "name": "stdout",
     "output_type": "stream",
     "text": [
      "episode: 390 reward: 8\n",
      "episode: 391 reward: 8\n",
      "episode: 392 reward: 8\n"
     ]
    },
    {
     "name": "stderr",
     "output_type": "stream",
     "text": [
      " 99%|███████████████████████████████████████████████████████████████████████████████ | 395/400 [00:30<00:00, 13.08it/s]"
     ]
    },
    {
     "name": "stdout",
     "output_type": "stream",
     "text": [
      "episode: 393 reward: 8\n",
      "episode: 394 reward: 6\n",
      "episode: 395 reward: 8\n"
     ]
    },
    {
     "name": "stderr",
     "output_type": "stream",
     "text": [
      "\r",
      " 99%|███████████████████████████████████████████████████████████████████████████████▍| 397/400 [00:30<00:00, 12.62it/s]"
     ]
    },
    {
     "name": "stdout",
     "output_type": "stream",
     "text": [
      "episode: 396 reward: 8\n",
      "episode: 397 reward: 7\n",
      "episode: 398 reward:"
     ]
    },
    {
     "name": "stderr",
     "output_type": "stream",
     "text": [
      "100%|████████████████████████████████████████████████████████████████████████████████| 400/400 [00:30<00:00, 13.02it/s]"
     ]
    },
    {
     "name": "stdout",
     "output_type": "stream",
     "text": [
      " 8\n",
      "episode: 399 reward: 8\n"
     ]
    },
    {
     "name": "stderr",
     "output_type": "stream",
     "text": [
      "\n"
     ]
    }
   ],
   "source": [
    "rl.PG.iteration(400)"
   ]
  },
  {
   "cell_type": "code",
   "execution_count": 4,
   "metadata": {},
   "outputs": [
    {
     "data": {
      "image/png": "[encoded data removed]",
      "text/plain": [
       "<Figure size 432x288 with 1 Axes>"
      ]
     },
     "metadata": {
      "needs_background": "light"
     },
     "output_type": "display_data"
    }
   ],
   "source": [
    "import matplotlib.pyplot as plt\n",
    "plt.plot(np.arange(len(rl.PG.cost_his)), rl.PG.cost_his)\n",
    "plt.ylim(ymax = 0.000001, ymin = 0)\n",
    "plt.ylabel('Cost')\n",
    "plt.xlabel('training steps')\n",
    "plt.show()"
   ]
  },
  {
   "cell_type": "code",
   "execution_count": 5,
   "metadata": {},
   "outputs": [
    {
     "data": {
      "image/png": "[encoded data removed]",
      "text/plain": [
       "<Figure size 432x288 with 1 Axes>"
      ]
     },
     "metadata": {
      "needs_background": "light"
     },
     "output_type": "display_data"
    }
   ],
   "source": [
    "hist = np.asarray(rl.PG.hist)\n",
    "import matplotlib.pyplot as plt\n",
    "fig = plt.figure()\n",
    "ax = fig.add_subplot(111)\n",
    "ax.plot(hist[:,0], hist[:,1], color='lightblue', linewidth=3)\n",
    "ax.set(title=\"Step Per episode\", xlabel=\"Episode#\", ylabel=\"#Step\")\n",
    "plt.show()"
   ]
  }
 ],
 "metadata": {
  "kernelspec": {
   "display_name": "Python 3",
   "language": "python",
   "name": "python3"
  },
  "language_info": {
   "codemirror_mode": {
    "name": "ipython",
    "version": 3
   },
   "file_extension": ".py",
   "mimetype": "text/x-python",
   "name": "python",
   "nbconvert_exporter": "python",
   "pygments_lexer": "ipython3",
   "version": "3.7.7"
  }
 },
 "nbformat": 4,
 "nbformat_minor": 2
}
