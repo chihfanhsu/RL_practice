{
 "cells": [
  {
   "cell_type": "code",
   "execution_count": 1,
   "metadata": {},
   "outputs": [],
   "source": [
    "import os\n",
    "from maze_env import Maze\n",
    "from Double_dqn import DRL\n",
    "import time\n",
    "import numpy as np"
   ]
  },
  {
   "cell_type": "code",
   "execution_count": 2,
   "metadata": {
    "scrolled": false
   },
   "outputs": [
    {
     "name": "stdout",
     "output_type": "stream",
     "text": [
      "WARNING:tensorflow:From c:\\silver\\workspace\\project\\RL_practice\\model.py:5: dense (from tensorflow.python.layers.core) is deprecated and will be removed in a future version.\n",
      "Instructions for updating:\n",
      "Use keras.layers.Dense instead.\n",
      "WARNING:tensorflow:From c:\\users\\silve\\appdata\\local\\programs\\python\\python37\\lib\\site-packages\\tensorflow_core\\python\\layers\\core.py:187: Layer.apply (from tensorflow.python.keras.engine.base_layer) is deprecated and will be removed in a future version.\n",
      "Instructions for updating:\n",
      "Please use `layer.__call__` method instead.\n",
      "WARNING:tensorflow:From c:\\users\\silve\\appdata\\local\\programs\\python\\python37\\lib\\site-packages\\tensorflow_core\\python\\ops\\resource_variable_ops.py:1635: calling BaseResourceVariable.__init__ (from tensorflow.python.ops.resource_variable_ops) with constraint is deprecated and will be removed in a future version.\n",
      "Instructions for updating:\n",
      "If using Keras pass *_constraint arguments to layers.\n",
      "WARNING:tensorflow:From c:\\users\\silve\\appdata\\local\\programs\\python\\python37\\lib\\site-packages\\tensorflow_core\\python\\training\\rmsprop.py:119: calling Ones.__init__ (from tensorflow.python.ops.init_ops) with dtype is deprecated and will be removed in a future version.\n",
      "Instructions for updating:\n",
      "Call initializer instance with the dtype argument instead of passing it to the constructor\n",
      "4x4, act_space = 4\n"
     ]
    }
   ],
   "source": [
    "# if __name__ == \"__main__\":\n",
    "env = Maze()\n",
    "rl = DRL(env)\n",
    "print('{0}x{1}, act_space = {2}'.format(env.MAZE_Limit[0],env.MAZE_Limit[1], len(env.action_space)))\n",
    "# env.bind('<KeyPress>', onKeyPress)\n",
    "# env.mainloop()"
   ]
  },
  {
   "cell_type": "code",
   "execution_count": 3,
   "metadata": {
    "scrolled": false
   },
   "outputs": [
    {
     "name": "stderr",
     "output_type": "stream",
     "text": [
      "100%|████████████████████████████████████████████████████████████████████████████████| 500/500 [00:39<00:00, 12.52it/s]\n"
     ]
    }
   ],
   "source": [
    "rl.Double_QDN.iteration(500)"
   ]
  },
  {
   "cell_type": "code",
   "execution_count": 4,
   "metadata": {},
   "outputs": [
    {
     "name": "stdout",
     "output_type": "stream",
     "text": [
      "[[14.89387     7.426055    4.524414    3.3772326  14.230567    4.531134\n",
      "   1.5979495   0.43614066 10.163386   -0.17929173 -3.1481304  -4.3499494\n",
      "   6.904945   -3.8651605  -7.053136   -8.729547  ]\n",
      " [-1.8088238  -1.2569962  -0.9908177  -0.93033653 -1.7225087  -0.9740957\n",
      "  -0.70434475 -0.6416922  -1.6053817  -0.7390188  -0.41268516 -0.30761892\n",
      "  -1.7749465  -0.7733951  -0.3289197  -0.13725716]\n",
      " [ 1.2465029  -1.5776834  -1.8289988  -1.3699875   2.684944    0.071612\n",
      "  -0.15563315  0.29679388  2.9551768   0.5054359   0.6830005   1.15907\n",
      "   2.6351173  -0.1943112  -0.1813007   0.49911684]\n",
      " [11.588925   12.077885    9.928597    8.927217    8.116173    5.459219\n",
      "   2.923575    1.9111117   3.7441454   0.6172825  -2.4214072  -3.8975415\n",
      "   1.9796966  -2.2395086  -5.386414   -7.565972  ]]\n",
      "[Max] Action to State-value\n",
      " [[14.89387    12.077885    9.928597    8.927217  ]\n",
      " [14.230567    5.459219    2.923575    1.9111117 ]\n",
      " [10.163386    0.6172825   0.6830005   1.15907   ]\n",
      " [ 6.904945   -0.1943112  -0.1813007   0.49911684]]\n",
      "[Max] Best action in each state\n",
      " [[0 3 3 3]\n",
      " [0 3 3 3]\n",
      " [0 3 2 2]\n",
      " [0 2 2 2]]\n"
     ]
    }
   ],
   "source": [
    "Avalue = np.squeeze(np.transpose(np.array(rl.Double_QDN.Avalue), (2, 0, 1)))\n",
    "print(Avalue)\n",
    "print(\"[Max] Action to State-value\\n\",np.max(Avalue,axis=0).reshape(env.MAZE_Limit[1],env.MAZE_Limit[0]))\n",
    "print(\"[Max] Best action in each state\\n\",np.argmax(Avalue,axis=0).reshape(env.MAZE_Limit[1],env.MAZE_Limit[0]))"
   ]
  },
  {
   "cell_type": "code",
   "execution_count": 5,
   "metadata": {},
   "outputs": [
    {
     "data": {
      "image/png": "[encoded data removed]",
      "text/plain": [
       "<Figure size 432x288 with 1 Axes>"
      ]
     },
     "metadata": {
      "needs_background": "light"
     },
     "output_type": "display_data"
    }
   ],
   "source": [
    "rl.Double_QDN.plot_cost()"
   ]
  },
  {
   "cell_type": "markdown",
   "metadata": {},
   "source": [
    "# testing field"
   ]
  },
  {
   "cell_type": "code",
   "execution_count": 6,
   "metadata": {},
   "outputs": [],
   "source": [
    "# import time\n",
    "# a = np.array([1,2,3,4,5])"
   ]
  },
  {
   "cell_type": "code",
   "execution_count": 7,
   "metadata": {},
   "outputs": [],
   "source": [
    "# # t = time.time()\n",
    "# np.logspace(start=1,stop=len(a),num=len(a),endpoint=True,base=2)/2\n",
    "# # print(time.time()-t)"
   ]
  },
  {
   "cell_type": "code",
   "execution_count": 8,
   "metadata": {},
   "outputs": [],
   "source": [
    "# # t = time.time()\n",
    "# np.array([2**i for i in range(len(a))])\n",
    "# # print(time.time()-t)"
   ]
  }
 ],
 "metadata": {
  "kernelspec": {
   "display_name": "Python 3",
   "language": "python",
   "name": "python3"
  },
  "language_info": {
   "codemirror_mode": {
    "name": "ipython",
    "version": 3
   },
   "file_extension": ".py",
   "mimetype": "text/x-python",
   "name": "python",
   "nbconvert_exporter": "python",
   "pygments_lexer": "ipython3",
   "version": "3.7.7"
  }
 },
 "nbformat": 4,
 "nbformat_minor": 2
}
